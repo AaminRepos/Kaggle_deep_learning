{
 "cells": [
  {
   "cell_type": "markdown",
   "id": "08386121",
   "metadata": {
    "papermill": {
     "duration": 0.007211,
     "end_time": "2022-08-14T15:56:38.943418",
     "exception": false,
     "start_time": "2022-08-14T15:56:38.936207",
     "status": "completed"
    },
    "tags": []
   },
   "source": [
    "**This notebook is an exercise in the [Intro to Deep Learning](https://www.kaggle.com/learn/intro-to-deep-learning) course.  You can reference the tutorial at [this link](https://www.kaggle.com/ryanholbrook/dropout-and-batch-normalization).**\n",
    "\n",
    "---\n"
   ]
  },
  {
   "cell_type": "markdown",
   "id": "d7edf0d8",
   "metadata": {
    "papermill": {
     "duration": 0.006059,
     "end_time": "2022-08-14T15:56:38.956388",
     "exception": false,
     "start_time": "2022-08-14T15:56:38.950329",
     "status": "completed"
    },
    "tags": []
   },
   "source": [
    "# Introduction #\n",
    "\n",
    "In this exercise, you'll add dropout to the *Spotify* model from Exercise 4 and see how batch normalization can let you successfully train models on difficult datasets.\n",
    "\n",
    "Run the next cell to get started!"
   ]
  },
  {
   "cell_type": "code",
   "execution_count": 1,
   "id": "33598aca",
   "metadata": {
    "execution": {
     "iopub.execute_input": "2022-08-14T15:56:38.973051Z",
     "iopub.status.busy": "2022-08-14T15:56:38.970988Z",
     "iopub.status.idle": "2022-08-14T15:56:39.018634Z",
     "shell.execute_reply": "2022-08-14T15:56:39.017801Z"
    },
    "papermill": {
     "duration": 0.057211,
     "end_time": "2022-08-14T15:56:39.020788",
     "exception": false,
     "start_time": "2022-08-14T15:56:38.963577",
     "status": "completed"
    },
    "tags": []
   },
   "outputs": [],
   "source": [
    "# Setup plotting\n",
    "import matplotlib.pyplot as plt\n",
    "plt.style.use('seaborn-whitegrid')\n",
    "# Set Matplotlib defaults\n",
    "plt.rc('figure', autolayout=True)\n",
    "plt.rc('axes', labelweight='bold', labelsize='large',\n",
    "       titleweight='bold', titlesize=18, titlepad=10)\n",
    "plt.rc('animation', html='html5')\n",
    "\n",
    "# Setup feedback system\n",
    "from learntools.core import binder\n",
    "binder.bind(globals())\n",
    "from learntools.deep_learning_intro.ex5 import *"
   ]
  },
  {
   "cell_type": "markdown",
   "id": "e88a9695",
   "metadata": {
    "papermill": {
     "duration": 0.004346,
     "end_time": "2022-08-14T15:56:39.029597",
     "exception": false,
     "start_time": "2022-08-14T15:56:39.025251",
     "status": "completed"
    },
    "tags": []
   },
   "source": [
    "First load the *Spotify* dataset."
   ]
  },
  {
   "cell_type": "code",
   "execution_count": 2,
   "id": "0c674507",
   "metadata": {
    "execution": {
     "iopub.execute_input": "2022-08-14T15:56:39.040067Z",
     "iopub.status.busy": "2022-08-14T15:56:39.039227Z",
     "iopub.status.idle": "2022-08-14T15:56:45.547151Z",
     "shell.execute_reply": "2022-08-14T15:56:45.546100Z"
    },
    "papermill": {
     "duration": 6.516094,
     "end_time": "2022-08-14T15:56:45.550099",
     "exception": false,
     "start_time": "2022-08-14T15:56:39.034005",
     "status": "completed"
    },
    "tags": []
   },
   "outputs": [
    {
     "name": "stdout",
     "output_type": "stream",
     "text": [
      "Input shape: [18]\n"
     ]
    }
   ],
   "source": [
    "import pandas as pd\n",
    "from sklearn.preprocessing import StandardScaler, OneHotEncoder\n",
    "from sklearn.compose import make_column_transformer\n",
    "from sklearn.model_selection import GroupShuffleSplit\n",
    "\n",
    "from tensorflow import keras\n",
    "from tensorflow.keras import layers\n",
    "from tensorflow.keras import callbacks\n",
    "\n",
    "spotify = pd.read_csv('../input/dl-course-data/spotify.csv')\n",
    "\n",
    "X = spotify.copy().dropna()\n",
    "y = X.pop('track_popularity')\n",
    "artists = X['track_artist']\n",
    "\n",
    "features_num = ['danceability', 'energy', 'key', 'loudness', 'mode',\n",
    "                'speechiness', 'acousticness', 'instrumentalness',\n",
    "                'liveness', 'valence', 'tempo', 'duration_ms']\n",
    "features_cat = ['playlist_genre']\n",
    "\n",
    "preprocessor = make_column_transformer(\n",
    "    (StandardScaler(), features_num),\n",
    "    (OneHotEncoder(), features_cat),\n",
    ")\n",
    "\n",
    "def group_split(X, y, group, train_size=0.75):\n",
    "    splitter = GroupShuffleSplit(train_size=train_size)\n",
    "    train, test = next(splitter.split(X, y, groups=group))\n",
    "    return (X.iloc[train], X.iloc[test], y.iloc[train], y.iloc[test])\n",
    "\n",
    "X_train, X_valid, y_train, y_valid = group_split(X, y, artists)\n",
    "\n",
    "X_train = preprocessor.fit_transform(X_train)\n",
    "X_valid = preprocessor.transform(X_valid)\n",
    "y_train = y_train / 100\n",
    "y_valid = y_valid / 100\n",
    "\n",
    "input_shape = [X_train.shape[1]]\n",
    "print(\"Input shape: {}\".format(input_shape))"
   ]
  },
  {
   "cell_type": "markdown",
   "id": "306854ba",
   "metadata": {
    "papermill": {
     "duration": 0.004428,
     "end_time": "2022-08-14T15:56:45.560214",
     "exception": false,
     "start_time": "2022-08-14T15:56:45.555786",
     "status": "completed"
    },
    "tags": []
   },
   "source": [
    "# 1) Add Dropout to Spotify Model\n",
    "\n",
    "Here is the last model from Exercise 4. Add two dropout layers, one after the `Dense` layer with 128 units, and one after the `Dense` layer with 64 units. Set the dropout rate on both to `0.3`."
   ]
  },
  {
   "cell_type": "code",
   "execution_count": 3,
   "id": "0aa09341",
   "metadata": {
    "execution": {
     "iopub.execute_input": "2022-08-14T15:56:45.571032Z",
     "iopub.status.busy": "2022-08-14T15:56:45.570733Z",
     "iopub.status.idle": "2022-08-14T15:56:48.420778Z",
     "shell.execute_reply": "2022-08-14T15:56:48.419727Z"
    },
    "lines_to_next_cell": 2,
    "papermill": {
     "duration": 2.857902,
     "end_time": "2022-08-14T15:56:48.422946",
     "exception": false,
     "start_time": "2022-08-14T15:56:45.565044",
     "status": "completed"
    },
    "tags": []
   },
   "outputs": [
    {
     "name": "stderr",
     "output_type": "stream",
     "text": [
      "2022-08-14 15:56:45.668765: I tensorflow/stream_executor/cuda/cuda_gpu_executor.cc:937] successful NUMA node read from SysFS had negative value (-1), but there must be at least one NUMA node, so returning NUMA node zero\n",
      "2022-08-14 15:56:45.788684: I tensorflow/stream_executor/cuda/cuda_gpu_executor.cc:937] successful NUMA node read from SysFS had negative value (-1), but there must be at least one NUMA node, so returning NUMA node zero\n",
      "2022-08-14 15:56:45.789447: I tensorflow/stream_executor/cuda/cuda_gpu_executor.cc:937] successful NUMA node read from SysFS had negative value (-1), but there must be at least one NUMA node, so returning NUMA node zero\n",
      "2022-08-14 15:56:45.791360: I tensorflow/core/platform/cpu_feature_guard.cc:142] This TensorFlow binary is optimized with oneAPI Deep Neural Network Library (oneDNN) to use the following CPU instructions in performance-critical operations:  AVX2 AVX512F FMA\n",
      "To enable them in other operations, rebuild TensorFlow with the appropriate compiler flags.\n",
      "2022-08-14 15:56:45.791699: I tensorflow/stream_executor/cuda/cuda_gpu_executor.cc:937] successful NUMA node read from SysFS had negative value (-1), but there must be at least one NUMA node, so returning NUMA node zero\n",
      "2022-08-14 15:56:45.792420: I tensorflow/stream_executor/cuda/cuda_gpu_executor.cc:937] successful NUMA node read from SysFS had negative value (-1), but there must be at least one NUMA node, so returning NUMA node zero\n",
      "2022-08-14 15:56:45.793076: I tensorflow/stream_executor/cuda/cuda_gpu_executor.cc:937] successful NUMA node read from SysFS had negative value (-1), but there must be at least one NUMA node, so returning NUMA node zero\n",
      "2022-08-14 15:56:47.981467: I tensorflow/stream_executor/cuda/cuda_gpu_executor.cc:937] successful NUMA node read from SysFS had negative value (-1), but there must be at least one NUMA node, so returning NUMA node zero\n",
      "2022-08-14 15:56:47.982373: I tensorflow/stream_executor/cuda/cuda_gpu_executor.cc:937] successful NUMA node read from SysFS had negative value (-1), but there must be at least one NUMA node, so returning NUMA node zero\n",
      "2022-08-14 15:56:47.983056: I tensorflow/stream_executor/cuda/cuda_gpu_executor.cc:937] successful NUMA node read from SysFS had negative value (-1), but there must be at least one NUMA node, so returning NUMA node zero\n",
      "2022-08-14 15:56:47.983649: I tensorflow/core/common_runtime/gpu/gpu_device.cc:1510] Created device /job:localhost/replica:0/task:0/device:GPU:0 with 15403 MB memory:  -> device: 0, name: Tesla P100-PCIE-16GB, pci bus id: 0000:00:04.0, compute capability: 6.0\n"
     ]
    },
    {
     "data": {
      "application/javascript": [
       "parent.postMessage({\"jupyterEvent\": \"custom.exercise_interaction\", \"data\": {\"outcomeType\": 1, \"valueTowardsCompletion\": 0.25, \"interactionType\": 1, \"questionType\": 2, \"questionId\": \"1_Q1\", \"learnToolsVersion\": \"0.3.4\", \"failureMessage\": \"\", \"exceptionClass\": \"\", \"trace\": \"\"}}, \"*\")"
      ],
      "text/plain": [
       "<IPython.core.display.Javascript object>"
      ]
     },
     "metadata": {},
     "output_type": "display_data"
    },
    {
     "data": {
      "text/markdown": [
       "<span style=\"color:#33cc33\">Correct</span>"
      ],
      "text/plain": [
       "Correct"
      ]
     },
     "metadata": {},
     "output_type": "display_data"
    }
   ],
   "source": [
    "# YOUR CODE HERE: Add two 30% dropout layers, one after 128 and one after 64\n",
    "model = keras.Sequential([\n",
    "    layers.Dense(128, activation='relu', input_shape=input_shape),\n",
    "    layers.Dropout(0.3),\n",
    "    layers.Dense(64, activation='relu'),\n",
    "    layers.Dropout(0.3),\n",
    "    layers.Dense(1)\n",
    "]);\n",
    "\n",
    "# Check your answer\n",
    "q_1.check()"
   ]
  },
  {
   "cell_type": "code",
   "execution_count": 4,
   "id": "c587af6f",
   "metadata": {
    "execution": {
     "iopub.execute_input": "2022-08-14T15:56:48.435301Z",
     "iopub.status.busy": "2022-08-14T15:56:48.434992Z",
     "iopub.status.idle": "2022-08-14T15:56:48.443949Z",
     "shell.execute_reply": "2022-08-14T15:56:48.442858Z"
    },
    "papermill": {
     "duration": 0.017626,
     "end_time": "2022-08-14T15:56:48.446106",
     "exception": false,
     "start_time": "2022-08-14T15:56:48.428480",
     "status": "completed"
    },
    "tags": []
   },
   "outputs": [
    {
     "data": {
      "application/javascript": [
       "parent.postMessage({\"jupyterEvent\": \"custom.exercise_interaction\", \"data\": {\"interactionType\": 3, \"questionType\": 2, \"questionId\": \"1_Q1\", \"learnToolsVersion\": \"0.3.4\", \"valueTowardsCompletion\": 0.0, \"failureMessage\": \"\", \"exceptionClass\": \"\", \"trace\": \"\", \"outcomeType\": 4}}, \"*\")"
      ],
      "text/plain": [
       "<IPython.core.display.Javascript object>"
      ]
     },
     "metadata": {},
     "output_type": "display_data"
    },
    {
     "data": {
      "text/markdown": [
       "<span style=\"color:#33cc99\">Solution:</span> \n",
       "```python\n",
       "\n",
       "model = keras.Sequential([\n",
       "    layers.Dense(128, activation='relu', input_shape=input_shape),\n",
       "    layers.Dropout(0.3),\n",
       "    layers.Dense(64, activation='relu'),\n",
       "    layers.Dropout(0.3),\n",
       "    layers.Dense(1)\n",
       "])\n",
       "\n",
       "```"
      ],
      "text/plain": [
       "Solution: \n",
       "```python\n",
       "\n",
       "model = keras.Sequential([\n",
       "    layers.Dense(128, activation='relu', input_shape=input_shape),\n",
       "    layers.Dropout(0.3),\n",
       "    layers.Dense(64, activation='relu'),\n",
       "    layers.Dropout(0.3),\n",
       "    layers.Dense(1)\n",
       "])\n",
       "\n",
       "```"
      ]
     },
     "metadata": {},
     "output_type": "display_data"
    }
   ],
   "source": [
    "# Lines below will give you a hint or solution code\n",
    "#q_1.hint()\n",
    "q_1.solution()"
   ]
  },
  {
   "cell_type": "markdown",
   "id": "495455a3",
   "metadata": {
    "papermill": {
     "duration": 0.004989,
     "end_time": "2022-08-14T15:56:48.456369",
     "exception": false,
     "start_time": "2022-08-14T15:56:48.451380",
     "status": "completed"
    },
    "tags": []
   },
   "source": [
    "Now run this next cell to train the model see the effect of adding dropout."
   ]
  },
  {
   "cell_type": "code",
   "execution_count": 5,
   "id": "f650cc1e",
   "metadata": {
    "execution": {
     "iopub.execute_input": "2022-08-14T15:56:48.470056Z",
     "iopub.status.busy": "2022-08-14T15:56:48.469746Z",
     "iopub.status.idle": "2022-08-14T15:56:56.087955Z",
     "shell.execute_reply": "2022-08-14T15:56:56.087082Z"
    },
    "papermill": {
     "duration": 7.627718,
     "end_time": "2022-08-14T15:56:56.090068",
     "exception": false,
     "start_time": "2022-08-14T15:56:48.462350",
     "status": "completed"
    },
    "tags": []
   },
   "outputs": [
    {
     "name": "stderr",
     "output_type": "stream",
     "text": [
      "2022-08-14 15:56:48.553351: I tensorflow/compiler/mlir/mlir_graph_optimization_pass.cc:185] None of the MLIR Optimization Passes are enabled (registered 2)\n"
     ]
    },
    {
     "name": "stdout",
     "output_type": "stream",
     "text": [
      "Minimum Validation Loss: 0.1953\n"
     ]
    },
    {
     "data": {
      "image/png": "[encoded data removed]",
      "text/plain": [
       "<Figure size 432x288 with 1 Axes>"
      ]
     },
     "metadata": {},
     "output_type": "display_data"
    }
   ],
   "source": [
    "model.compile(\n",
    "    optimizer='adam',\n",
    "    loss='mae',\n",
    ")\n",
    "history = model.fit(\n",
    "    X_train, y_train,\n",
    "    validation_data=(X_valid, y_valid),\n",
    "    batch_size=512,\n",
    "    epochs=50,\n",
    "    verbose=0,\n",
    ")\n",
    "history_df = pd.DataFrame(history.history)\n",
    "history_df.loc[:, ['loss', 'val_loss']].plot()\n",
    "print(\"Minimum Validation Loss: {:0.4f}\".format(history_df['val_loss'].min()))"
   ]
  },
  {
   "cell_type": "markdown",
   "id": "ba17c9c4",
   "metadata": {
    "papermill": {
     "duration": 0.005348,
     "end_time": "2022-08-14T15:56:56.101678",
     "exception": false,
     "start_time": "2022-08-14T15:56:56.096330",
     "status": "completed"
    },
    "tags": []
   },
   "source": [
    "# 2) Evaluate Dropout\n",
    "\n",
    "Recall from Exercise 4 that this model tended to overfit the data around epoch 5. Did adding dropout seem to help prevent overfitting this time?"
   ]
  },
  {
   "cell_type": "code",
   "execution_count": 6,
   "id": "158b9bda",
   "metadata": {
    "execution": {
     "iopub.execute_input": "2022-08-14T15:56:56.114688Z",
     "iopub.status.busy": "2022-08-14T15:56:56.114386Z",
     "iopub.status.idle": "2022-08-14T15:56:56.122674Z",
     "shell.execute_reply": "2022-08-14T15:56:56.121791Z"
    },
    "papermill": {
     "duration": 0.016685,
     "end_time": "2022-08-14T15:56:56.124671",
     "exception": false,
     "start_time": "2022-08-14T15:56:56.107986",
     "status": "completed"
    },
    "tags": []
   },
   "outputs": [
    {
     "data": {
      "application/javascript": [
       "parent.postMessage({\"jupyterEvent\": \"custom.exercise_interaction\", \"data\": {\"outcomeType\": 1, \"valueTowardsCompletion\": 0.25, \"interactionType\": 1, \"questionType\": 4, \"questionId\": \"2_Q2\", \"learnToolsVersion\": \"0.3.4\", \"failureMessage\": \"\", \"exceptionClass\": \"\", \"trace\": \"\"}}, \"*\")"
      ],
      "text/plain": [
       "<IPython.core.display.Javascript object>"
      ]
     },
     "metadata": {},
     "output_type": "display_data"
    },
    {
     "data": {
      "text/markdown": [
       "<span style=\"color:#33cc33\">Correct:</span> \n",
       "\n",
       "\n",
       "From the learning curves, you can see that the validation loss remains near a constant minimum even though the training loss continues to decrease. So we can see that adding dropout did prevent overfitting this time. Moreover, by making it harder for the network to fit spurious patterns, dropout may have encouraged the network to seek out more of the true patterns, possibly improving the validation loss some as well).\n"
      ],
      "text/plain": [
       "Correct: \n",
       "\n",
       "\n",
       "From the learning curves, you can see that the validation loss remains near a constant minimum even though the training loss continues to decrease. So we can see that adding dropout did prevent overfitting this time. Moreover, by making it harder for the network to fit spurious patterns, dropout may have encouraged the network to seek out more of the true patterns, possibly improving the validation loss some as well)."
      ]
     },
     "metadata": {},
     "output_type": "display_data"
    }
   ],
   "source": [
    "# View the solution (Run this cell to receive credit!)\n",
    "q_2.check()"
   ]
  },
  {
   "cell_type": "markdown",
   "id": "b75e309f",
   "metadata": {
    "papermill": {
     "duration": 0.005493,
     "end_time": "2022-08-14T15:56:56.135734",
     "exception": false,
     "start_time": "2022-08-14T15:56:56.130241",
     "status": "completed"
    },
    "tags": []
   },
   "source": [
    "Now, we'll switch topics to explore how batch normalization can fix problems in training.\n",
    "\n",
    "Load the *Concrete* dataset. We won't do any standardization this time. This will make the effect of batch normalization much more apparent."
   ]
  },
  {
   "cell_type": "code",
   "execution_count": 7,
   "id": "f7a53c6c",
   "metadata": {
    "execution": {
     "iopub.execute_input": "2022-08-14T15:56:56.148218Z",
     "iopub.status.busy": "2022-08-14T15:56:56.147948Z",
     "iopub.status.idle": "2022-08-14T15:56:56.165502Z",
     "shell.execute_reply": "2022-08-14T15:56:56.164688Z"
    },
    "papermill": {
     "duration": 0.026136,
     "end_time": "2022-08-14T15:56:56.167535",
     "exception": false,
     "start_time": "2022-08-14T15:56:56.141399",
     "status": "completed"
    },
    "tags": []
   },
   "outputs": [],
   "source": [
    "import pandas as pd\n",
    "\n",
    "concrete = pd.read_csv('../input/dl-course-data/concrete.csv')\n",
    "df = concrete.copy()\n",
    "\n",
    "df_train = df.sample(frac=0.7, random_state=0)\n",
    "df_valid = df.drop(df_train.index)\n",
    "\n",
    "X_train = df_train.drop('CompressiveStrength', axis=1)\n",
    "X_valid = df_valid.drop('CompressiveStrength', axis=1)\n",
    "y_train = df_train['CompressiveStrength']\n",
    "y_valid = df_valid['CompressiveStrength']\n",
    "\n",
    "input_shape = [X_train.shape[1]]"
   ]
  },
  {
   "cell_type": "markdown",
   "id": "3e73d8ad",
   "metadata": {
    "papermill": {
     "duration": 0.005481,
     "end_time": "2022-08-14T15:56:56.179240",
     "exception": false,
     "start_time": "2022-08-14T15:56:56.173759",
     "status": "completed"
    },
    "tags": []
   },
   "source": [
    "Run the following cell to train the network on the unstandardized *Concrete* data."
   ]
  },
  {
   "cell_type": "code",
   "execution_count": 8,
   "id": "6da40a61",
   "metadata": {
    "execution": {
     "iopub.execute_input": "2022-08-14T15:56:56.192900Z",
     "iopub.status.busy": "2022-08-14T15:56:56.191349Z",
     "iopub.status.idle": "2022-08-14T15:57:01.862930Z",
     "shell.execute_reply": "2022-08-14T15:57:01.862030Z"
    },
    "papermill": {
     "duration": 5.680173,
     "end_time": "2022-08-14T15:57:01.865121",
     "exception": false,
     "start_time": "2022-08-14T15:56:56.184948",
     "status": "completed"
    },
    "tags": []
   },
   "outputs": [
    {
     "name": "stdout",
     "output_type": "stream",
     "text": [
      "Minimum Validation Loss: nan\n"
     ]
    },
    {
     "data": {
      "image/png": "[encoded data removed]",
      "text/plain": [
       "<Figure size 432x288 with 1 Axes>"
      ]
     },
     "metadata": {},
     "output_type": "display_data"
    }
   ],
   "source": [
    "model = keras.Sequential([\n",
    "    layers.Dense(512, activation='relu', input_shape=input_shape),\n",
    "    layers.Dense(512, activation='relu'),    \n",
    "    layers.Dense(512, activation='relu'),\n",
    "    layers.Dense(1),\n",
    "])\n",
    "model.compile(\n",
    "    optimizer='sgd', # SGD is more sensitive to differences of scale\n",
    "    loss='mae',\n",
    "    metrics=['mae'],\n",
    ")\n",
    "history = model.fit(\n",
    "    X_train, y_train,\n",
    "    validation_data=(X_valid, y_valid),\n",
    "    batch_size=64,\n",
    "    epochs=100,\n",
    "    verbose=0,\n",
    ")\n",
    "\n",
    "history_df = pd.DataFrame(history.history)\n",
    "history_df.loc[0:, ['loss', 'val_loss']].plot()\n",
    "print((\"Minimum Validation Loss: {:0.4f}\").format(history_df['val_loss'].min()))"
   ]
  },
  {
   "cell_type": "markdown",
   "id": "269a3845",
   "metadata": {
    "papermill": {
     "duration": 0.005794,
     "end_time": "2022-08-14T15:57:01.877107",
     "exception": false,
     "start_time": "2022-08-14T15:57:01.871313",
     "status": "completed"
    },
    "tags": []
   },
   "source": [
    "Did you end up with a blank graph? Trying to train this network on this dataset will usually fail. Even when it does converge (due to a lucky weight initialization), it tends to converge to a very large number.\n",
    "\n",
    "# 3) Add Batch Normalization Layers\n",
    "\n",
    "Batch normalization can help correct problems like this.\n",
    "\n",
    "Add four `BatchNormalization` layers, one before each of the dense layers. (Remember to move the `input_shape` argument to the new first layer.)"
   ]
  },
  {
   "cell_type": "code",
   "execution_count": 9,
   "id": "162fe1cf",
   "metadata": {
    "execution": {
     "iopub.execute_input": "2022-08-14T15:57:01.890398Z",
     "iopub.status.busy": "2022-08-14T15:57:01.890116Z",
     "iopub.status.idle": "2022-08-14T15:57:01.975108Z",
     "shell.execute_reply": "2022-08-14T15:57:01.974082Z"
    },
    "lines_to_next_cell": 0,
    "papermill": {
     "duration": 0.094361,
     "end_time": "2022-08-14T15:57:01.977414",
     "exception": false,
     "start_time": "2022-08-14T15:57:01.883053",
     "status": "completed"
    },
    "tags": []
   },
   "outputs": [
    {
     "data": {
      "application/javascript": [
       "parent.postMessage({\"jupyterEvent\": \"custom.exercise_interaction\", \"data\": {\"outcomeType\": 1, \"valueTowardsCompletion\": 0.25, \"interactionType\": 1, \"questionType\": 2, \"questionId\": \"3_Q3\", \"learnToolsVersion\": \"0.3.4\", \"failureMessage\": \"\", \"exceptionClass\": \"\", \"trace\": \"\"}}, \"*\")"
      ],
      "text/plain": [
       "<IPython.core.display.Javascript object>"
      ]
     },
     "metadata": {},
     "output_type": "display_data"
    },
    {
     "data": {
      "text/markdown": [
       "<span style=\"color:#33cc33\">Correct</span>"
      ],
      "text/plain": [
       "Correct"
      ]
     },
     "metadata": {},
     "output_type": "display_data"
    }
   ],
   "source": [
    "# YOUR CODE HERE: Add a BatchNormalization layer before each Dense layer\n",
    "model = keras.Sequential([\n",
    "    layers.BatchNormalization(input_shape = input_shape),\n",
    "    layers.Dense(512, activation= 'relu'),\n",
    "    layers.BatchNormalization(),\n",
    "    layers.Dense(512, activation='relu'),\n",
    "    layers.BatchNormalization(),\n",
    "    layers.Dense(512, activation = 'relu'),\n",
    "    layers.BatchNormalization(),\n",
    "    layers.Dense(1)\n",
    "])\n",
    "\n",
    "# Check your answer\n",
    "q_3.check()"
   ]
  },
  {
   "cell_type": "code",
   "execution_count": 10,
   "id": "397877f7",
   "metadata": {
    "execution": {
     "iopub.execute_input": "2022-08-14T15:57:01.990981Z",
     "iopub.status.busy": "2022-08-14T15:57:01.990543Z",
     "iopub.status.idle": "2022-08-14T15:57:02.001171Z",
     "shell.execute_reply": "2022-08-14T15:57:02.000333Z"
    },
    "papermill": {
     "duration": 0.019943,
     "end_time": "2022-08-14T15:57:02.003363",
     "exception": false,
     "start_time": "2022-08-14T15:57:01.983420",
     "status": "completed"
    },
    "tags": []
   },
   "outputs": [
    {
     "data": {
      "application/javascript": [
       "parent.postMessage({\"jupyterEvent\": \"custom.exercise_interaction\", \"data\": {\"interactionType\": 3, \"questionType\": 2, \"questionId\": \"3_Q3\", \"learnToolsVersion\": \"0.3.4\", \"valueTowardsCompletion\": 0.0, \"failureMessage\": \"\", \"exceptionClass\": \"\", \"trace\": \"\", \"outcomeType\": 4}}, \"*\")"
      ],
      "text/plain": [
       "<IPython.core.display.Javascript object>"
      ]
     },
     "metadata": {},
     "output_type": "display_data"
    },
    {
     "data": {
      "text/markdown": [
       "<span style=\"color:#33cc99\">Solution:</span> \n",
       "```python\n",
       "\n",
       "model = keras.Sequential([\n",
       "    layers.BatchNormalization(input_shape=input_shape),\n",
       "    layers.Dense(512, activation='relu'),\n",
       "    layers.BatchNormalization(),\n",
       "    layers.Dense(512, activation='relu'),\n",
       "    layers.BatchNormalization(),\n",
       "    layers.Dense(512, activation='relu'),\n",
       "    layers.BatchNormalization(),\n",
       "    layers.Dense(1),\n",
       "])\n",
       "\n",
       "```"
      ],
      "text/plain": [
       "Solution: \n",
       "```python\n",
       "\n",
       "model = keras.Sequential([\n",
       "    layers.BatchNormalization(input_shape=input_shape),\n",
       "    layers.Dense(512, activation='relu'),\n",
       "    layers.BatchNormalization(),\n",
       "    layers.Dense(512, activation='relu'),\n",
       "    layers.BatchNormalization(),\n",
       "    layers.Dense(512, activation='relu'),\n",
       "    layers.BatchNormalization(),\n",
       "    layers.Dense(1),\n",
       "])\n",
       "\n",
       "```"
      ]
     },
     "metadata": {},
     "output_type": "display_data"
    }
   ],
   "source": [
    "# Lines below will give you a hint or solution code\n",
    "#q_3.hint()\n",
    "q_3.solution()"
   ]
  },
  {
   "cell_type": "markdown",
   "id": "a69c73cd",
   "metadata": {
    "papermill": {
     "duration": 0.006036,
     "end_time": "2022-08-14T15:57:02.015831",
     "exception": false,
     "start_time": "2022-08-14T15:57:02.009795",
     "status": "completed"
    },
    "tags": []
   },
   "source": [
    "Run the next cell to see if batch normalization will let us train the model."
   ]
  },
  {
   "cell_type": "code",
   "execution_count": 11,
   "id": "2b5bf207",
   "metadata": {
    "execution": {
     "iopub.execute_input": "2022-08-14T15:57:02.029925Z",
     "iopub.status.busy": "2022-08-14T15:57:02.029645Z",
     "iopub.status.idle": "2022-08-14T15:57:10.288225Z",
     "shell.execute_reply": "2022-08-14T15:57:10.287096Z"
    },
    "papermill": {
     "duration": 8.268352,
     "end_time": "2022-08-14T15:57:10.290367",
     "exception": false,
     "start_time": "2022-08-14T15:57:02.022015",
     "status": "completed"
    },
    "tags": []
   },
   "outputs": [
    {
     "name": "stdout",
     "output_type": "stream",
     "text": [
      "Minimum Validation Loss: 3.8904\n"
     ]
    },
    {
     "data": {
      "image/png": "[encoded data removed]",
      "text/plain": [
       "<Figure size 432x288 with 1 Axes>"
      ]
     },
     "metadata": {},
     "output_type": "display_data"
    }
   ],
   "source": [
    "model.compile(\n",
    "    optimizer='sgd',\n",
    "    loss='mae',\n",
    "    metrics=['mae'],\n",
    ")\n",
    "EPOCHS = 100\n",
    "history = model.fit(\n",
    "    X_train, y_train,\n",
    "    validation_data=(X_valid, y_valid),\n",
    "    batch_size=64,\n",
    "    epochs=EPOCHS,\n",
    "    verbose=0,\n",
    ")\n",
    "\n",
    "history_df = pd.DataFrame(history.history)\n",
    "history_df.loc[0:, ['loss', 'val_loss']].plot()\n",
    "print((\"Minimum Validation Loss: {:0.4f}\").format(history_df['val_loss'].min()))"
   ]
  },
  {
   "cell_type": "markdown",
   "id": "d738173a",
   "metadata": {
    "papermill": {
     "duration": 0.006539,
     "end_time": "2022-08-14T15:57:10.304537",
     "exception": false,
     "start_time": "2022-08-14T15:57:10.297998",
     "status": "completed"
    },
    "tags": []
   },
   "source": [
    "# 4) Evaluate Batch Normalization\n",
    "\n",
    "Did adding batch normalization help?"
   ]
  },
  {
   "cell_type": "code",
   "execution_count": 12,
   "id": "a36b9daa",
   "metadata": {
    "execution": {
     "iopub.execute_input": "2022-08-14T15:57:10.319538Z",
     "iopub.status.busy": "2022-08-14T15:57:10.318728Z",
     "iopub.status.idle": "2022-08-14T15:57:10.327267Z",
     "shell.execute_reply": "2022-08-14T15:57:10.326241Z"
    },
    "lines_to_next_cell": 0,
    "papermill": {
     "duration": 0.018776,
     "end_time": "2022-08-14T15:57:10.329927",
     "exception": false,
     "start_time": "2022-08-14T15:57:10.311151",
     "status": "completed"
    },
    "tags": []
   },
   "outputs": [
    {
     "data": {
      "application/javascript": [
       "parent.postMessage({\"jupyterEvent\": \"custom.exercise_interaction\", \"data\": {\"outcomeType\": 1, \"valueTowardsCompletion\": 0.25, \"interactionType\": 1, \"questionType\": 4, \"questionId\": \"4_Q4\", \"learnToolsVersion\": \"0.3.4\", \"failureMessage\": \"\", \"exceptionClass\": \"\", \"trace\": \"\"}}, \"*\")"
      ],
      "text/plain": [
       "<IPython.core.display.Javascript object>"
      ]
     },
     "metadata": {},
     "output_type": "display_data"
    },
    {
     "data": {
      "text/markdown": [
       "<span style=\"color:#33cc33\">Correct:</span> \n",
       "\n",
       "\n",
       "You can see that adding batch normalization was a big improvement on the first attempt! By adaptively scaling the data as it passes through the network, batch normalization can let you train models on difficult datasets.\n"
      ],
      "text/plain": [
       "Correct: \n",
       "\n",
       "\n",
       "You can see that adding batch normalization was a big improvement on the first attempt! By adaptively scaling the data as it passes through the network, batch normalization can let you train models on difficult datasets."
      ]
     },
     "metadata": {},
     "output_type": "display_data"
    }
   ],
   "source": [
    "# View the solution (Run this cell to receive credit!)\n",
    "q_4.check()"
   ]
  },
  {
   "cell_type": "markdown",
   "id": "f49dd790",
   "metadata": {
    "papermill": {
     "duration": 0.006665,
     "end_time": "2022-08-14T15:57:10.343501",
     "exception": false,
     "start_time": "2022-08-14T15:57:10.336836",
     "status": "completed"
    },
    "tags": []
   },
   "source": [
    "# Keep Going #\n",
    "\n",
    "[**Create neural networks**](https://www.kaggle.com/ryanholbrook/binary-classification) for binary classification."
   ]
  },
  {
   "cell_type": "markdown",
   "id": "759e0228",
   "metadata": {
    "papermill": {
     "duration": 0.006627,
     "end_time": "2022-08-14T15:57:10.356926",
     "exception": false,
     "start_time": "2022-08-14T15:57:10.350299",
     "status": "completed"
    },
    "tags": []
   },
   "source": [
    "---\n",
    "\n",
    "\n",
    "\n",
    "\n",
    "*Have questions or comments? Visit the [course discussion forum](https://www.kaggle.com/learn/intro-to-deep-learning/discussion) to chat with other learners.*"
   ]
  }
 ],
 "metadata": {
  "kernelspec": {
   "display_name": "Python 3",
   "language": "python",
   "name": "python3"
  },
  "language_info": {
   "codemirror_mode": {
    "name": "ipython",
    "version": 3
   },
   "file_extension": ".py",
   "mimetype": "text/x-python",
   "name": "python",
   "nbconvert_exporter": "python",
   "pygments_lexer": "ipython3",
   "version": "3.7.12"
  },
  "papermill": {
   "default_parameters": {},
   "duration": 42.277767,
   "end_time": "2022-08-14T15:57:13.478153",
   "environment_variables": {},
   "exception": null,
   "input_path": "__notebook__.ipynb",
   "output_path": "__notebook__.ipynb",
   "parameters": {},
   "start_time": "2022-08-14T15:56:31.200386",
   "version": "2.3.4"
  }
 },
 "nbformat": 4,
 "nbformat_minor": 5
}
