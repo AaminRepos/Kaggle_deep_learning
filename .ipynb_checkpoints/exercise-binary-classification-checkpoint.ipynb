{
 "cells": [
  {
   "cell_type": "markdown",
   "id": "23ca9940",
   "metadata": {
    "papermill": {
     "duration": 0.005177,
     "end_time": "2022-08-14T16:30:38.856131",
     "exception": false,
     "start_time": "2022-08-14T16:30:38.850954",
     "status": "completed"
    },
    "tags": []
   },
   "source": [
    "**This notebook is an exercise in the [Intro to Deep Learning](https://www.kaggle.com/learn/intro-to-deep-learning) course.  You can reference the tutorial at [this link](https://www.kaggle.com/ryanholbrook/binary-classification).**\n",
    "\n",
    "---\n"
   ]
  },
  {
   "cell_type": "markdown",
   "id": "45f58deb",
   "metadata": {
    "papermill": {
     "duration": 0.003041,
     "end_time": "2022-08-14T16:30:38.862669",
     "exception": false,
     "start_time": "2022-08-14T16:30:38.859628",
     "status": "completed"
    },
    "tags": []
   },
   "source": [
    "# Introduction #\n",
    "\n",
    "In this exercise, you'll build a model to predict hotel cancellations with a binary classifier."
   ]
  },
  {
   "cell_type": "code",
   "execution_count": 1,
   "id": "c45f07dd",
   "metadata": {
    "execution": {
     "iopub.execute_input": "2022-08-14T16:30:38.871469Z",
     "iopub.status.busy": "2022-08-14T16:30:38.870939Z",
     "iopub.status.idle": "2022-08-14T16:30:38.911572Z",
     "shell.execute_reply": "2022-08-14T16:30:38.910608Z"
    },
    "lines_to_next_cell": 0,
    "papermill": {
     "duration": 0.048363,
     "end_time": "2022-08-14T16:30:38.914224",
     "exception": false,
     "start_time": "2022-08-14T16:30:38.865861",
     "status": "completed"
    },
    "tags": []
   },
   "outputs": [],
   "source": [
    "# Setup plotting\n",
    "import matplotlib.pyplot as plt\n",
    "plt.style.use('seaborn-whitegrid')\n",
    "# Set Matplotlib defaults\n",
    "plt.rc('figure', autolayout=True)\n",
    "plt.rc('axes', labelweight='bold', labelsize='large',\n",
    "       titleweight='bold', titlesize=18, titlepad=10)\n",
    "plt.rc('animation', html='html5')\n",
    "\n",
    "# Setup feedback system\n",
    "from learntools.core import binder\n",
    "binder.bind(globals())\n",
    "from learntools.deep_learning_intro.ex6 import *"
   ]
  },
  {
   "cell_type": "markdown",
   "id": "35c69060",
   "metadata": {
    "papermill": {
     "duration": 0.003078,
     "end_time": "2022-08-14T16:30:38.920834",
     "exception": false,
     "start_time": "2022-08-14T16:30:38.917756",
     "status": "completed"
    },
    "tags": []
   },
   "source": [
    "First, load the *Hotel Cancellations* dataset."
   ]
  },
  {
   "cell_type": "code",
   "execution_count": 2,
   "id": "c92323a1",
   "metadata": {
    "execution": {
     "iopub.execute_input": "2022-08-14T16:30:38.928514Z",
     "iopub.status.busy": "2022-08-14T16:30:38.928183Z",
     "iopub.status.idle": "2022-08-14T16:30:41.231043Z",
     "shell.execute_reply": "2022-08-14T16:30:41.229913Z"
    },
    "lines_to_next_cell": 2,
    "papermill": {
     "duration": 2.309438,
     "end_time": "2022-08-14T16:30:41.233439",
     "exception": false,
     "start_time": "2022-08-14T16:30:38.924001",
     "status": "completed"
    },
    "tags": []
   },
   "outputs": [],
   "source": [
    "import pandas as pd\n",
    "\n",
    "from sklearn.model_selection import train_test_split\n",
    "from sklearn.preprocessing import StandardScaler, OneHotEncoder\n",
    "from sklearn.impute import SimpleImputer\n",
    "from sklearn.pipeline import make_pipeline\n",
    "from sklearn.compose import make_column_transformer\n",
    "\n",
    "hotel = pd.read_csv('../input/dl-course-data/hotel.csv')\n",
    "\n",
    "X = hotel.copy()\n",
    "y = X.pop('is_canceled')\n",
    "\n",
    "X['arrival_date_month'] = \\\n",
    "    X['arrival_date_month'].map(\n",
    "        {'January':1, 'February': 2, 'March':3,\n",
    "         'April':4, 'May':5, 'June':6, 'July':7,\n",
    "         'August':8, 'September':9, 'October':10,\n",
    "         'November':11, 'December':12}\n",
    "    )\n",
    "\n",
    "features_num = [\n",
    "    \"lead_time\", \"arrival_date_week_number\",\n",
    "    \"arrival_date_day_of_month\", \"stays_in_weekend_nights\",\n",
    "    \"stays_in_week_nights\", \"adults\", \"children\", \"babies\",\n",
    "    \"is_repeated_guest\", \"previous_cancellations\",\n",
    "    \"previous_bookings_not_canceled\", \"required_car_parking_spaces\",\n",
    "    \"total_of_special_requests\", \"adr\",\n",
    "]\n",
    "features_cat = [\n",
    "    \"hotel\", \"arrival_date_month\", \"meal\",\n",
    "    \"market_segment\", \"distribution_channel\",\n",
    "    \"reserved_room_type\", \"deposit_type\", \"customer_type\",\n",
    "]\n",
    "\n",
    "transformer_num = make_pipeline(\n",
    "    SimpleImputer(strategy=\"constant\"), # there are a few missing values\n",
    "    StandardScaler(),\n",
    ")\n",
    "transformer_cat = make_pipeline(\n",
    "    SimpleImputer(strategy=\"constant\", fill_value=\"NA\"),\n",
    "    OneHotEncoder(handle_unknown='ignore'),\n",
    ")\n",
    "\n",
    "preprocessor = make_column_transformer(\n",
    "    (transformer_num, features_num),\n",
    "    (transformer_cat, features_cat),\n",
    ")\n",
    "\n",
    "# stratify - make sure classes are evenlly represented across splits\n",
    "X_train, X_valid, y_train, y_valid = \\\n",
    "    train_test_split(X, y, stratify=y, train_size=0.75)\n",
    "\n",
    "X_train = preprocessor.fit_transform(X_train)\n",
    "X_valid = preprocessor.transform(X_valid)\n",
    "\n",
    "input_shape = [X_train.shape[1]]"
   ]
  },
  {
   "cell_type": "markdown",
   "id": "da1afe78",
   "metadata": {
    "papermill": {
     "duration": 0.003157,
     "end_time": "2022-08-14T16:30:41.240164",
     "exception": false,
     "start_time": "2022-08-14T16:30:41.237007",
     "status": "completed"
    },
    "tags": []
   },
   "source": [
    "# 1) Define Model #\n",
    "\n",
    "The model we'll use this time will have both batch normalization and dropout layers. To ease reading we've broken the diagram into blocks, but you can define it layer by layer as usual.\n",
    "\n",
    "Define a model with an architecture given by this diagram:\n",
    "\n",
    "<figure style=\"padding: 1em;\">\n",
    "<img src=\"https://i.imgur.com/V04o59Z.png\" width=\"400\" alt=\"Diagram of network architecture: BatchNorm, Dense, BatchNorm, Dropout, Dense, BatchNorm, Dropout, Dense.\">\n",
    "<figcaption style=\"textalign: center; font-style: italic\"><center>Diagram of a binary classifier.</center></figcaption>\n",
    "</figure>\n"
   ]
  },
  {
   "cell_type": "code",
   "execution_count": 3,
   "id": "21948b17",
   "metadata": {
    "execution": {
     "iopub.execute_input": "2022-08-14T16:30:41.249740Z",
     "iopub.status.busy": "2022-08-14T16:30:41.248020Z",
     "iopub.status.idle": "2022-08-14T16:30:49.609431Z",
     "shell.execute_reply": "2022-08-14T16:30:49.608273Z"
    },
    "lines_to_next_cell": 2,
    "papermill": {
     "duration": 8.368507,
     "end_time": "2022-08-14T16:30:49.611877",
     "exception": false,
     "start_time": "2022-08-14T16:30:41.243370",
     "status": "completed"
    },
    "tags": []
   },
   "outputs": [
    {
     "name": "stderr",
     "output_type": "stream",
     "text": [
      "2022-08-14 16:30:46.738133: I tensorflow/stream_executor/cuda/cuda_gpu_executor.cc:937] successful NUMA node read from SysFS had negative value (-1), but there must be at least one NUMA node, so returning NUMA node zero\n",
      "2022-08-14 16:30:46.851299: I tensorflow/stream_executor/cuda/cuda_gpu_executor.cc:937] successful NUMA node read from SysFS had negative value (-1), but there must be at least one NUMA node, so returning NUMA node zero\n",
      "2022-08-14 16:30:46.852122: I tensorflow/stream_executor/cuda/cuda_gpu_executor.cc:937] successful NUMA node read from SysFS had negative value (-1), but there must be at least one NUMA node, so returning NUMA node zero\n",
      "2022-08-14 16:30:46.854079: I tensorflow/core/platform/cpu_feature_guard.cc:142] This TensorFlow binary is optimized with oneAPI Deep Neural Network Library (oneDNN) to use the following CPU instructions in performance-critical operations:  AVX2 AVX512F FMA\n",
      "To enable them in other operations, rebuild TensorFlow with the appropriate compiler flags.\n",
      "2022-08-14 16:30:46.857554: I tensorflow/stream_executor/cuda/cuda_gpu_executor.cc:937] successful NUMA node read from SysFS had negative value (-1), but there must be at least one NUMA node, so returning NUMA node zero\n",
      "2022-08-14 16:30:46.858276: I tensorflow/stream_executor/cuda/cuda_gpu_executor.cc:937] successful NUMA node read from SysFS had negative value (-1), but there must be at least one NUMA node, so returning NUMA node zero\n",
      "2022-08-14 16:30:46.858977: I tensorflow/stream_executor/cuda/cuda_gpu_executor.cc:937] successful NUMA node read from SysFS had negative value (-1), but there must be at least one NUMA node, so returning NUMA node zero\n",
      "2022-08-14 16:30:49.158767: I tensorflow/stream_executor/cuda/cuda_gpu_executor.cc:937] successful NUMA node read from SysFS had negative value (-1), but there must be at least one NUMA node, so returning NUMA node zero\n",
      "2022-08-14 16:30:49.159614: I tensorflow/stream_executor/cuda/cuda_gpu_executor.cc:937] successful NUMA node read from SysFS had negative value (-1), but there must be at least one NUMA node, so returning NUMA node zero\n",
      "2022-08-14 16:30:49.160296: I tensorflow/stream_executor/cuda/cuda_gpu_executor.cc:937] successful NUMA node read from SysFS had negative value (-1), but there must be at least one NUMA node, so returning NUMA node zero\n",
      "2022-08-14 16:30:49.160904: I tensorflow/core/common_runtime/gpu/gpu_device.cc:1510] Created device /job:localhost/replica:0/task:0/device:GPU:0 with 15403 MB memory:  -> device: 0, name: Tesla P100-PCIE-16GB, pci bus id: 0000:00:04.0, compute capability: 6.0\n"
     ]
    },
    {
     "data": {
      "application/javascript": [
       "parent.postMessage({\"jupyterEvent\": \"custom.exercise_interaction\", \"data\": {\"outcomeType\": 1, \"valueTowardsCompletion\": 0.3333333333333333, \"interactionType\": 1, \"questionType\": 2, \"questionId\": \"1_Q1\", \"learnToolsVersion\": \"0.3.4\", \"failureMessage\": \"\", \"exceptionClass\": \"\", \"trace\": \"\"}}, \"*\")"
      ],
      "text/plain": [
       "<IPython.core.display.Javascript object>"
      ]
     },
     "metadata": {},
     "output_type": "display_data"
    },
    {
     "data": {
      "text/markdown": [
       "<span style=\"color:#33cc33\">Correct</span>"
      ],
      "text/plain": [
       "Correct"
      ]
     },
     "metadata": {},
     "output_type": "display_data"
    }
   ],
   "source": [
    "from tensorflow import keras\n",
    "from tensorflow.keras import layers\n",
    "\n",
    "# YOUR CODE HERE: define the model given in the diagram\n",
    "model = keras.Sequential([\n",
    "    layers.BatchNormalization(input_shape = input_shape),\n",
    "    layers.Dense(256, activation= 'relu'),\n",
    "    layers.BatchNormalization(),\n",
    "    layers.Dropout(0.3),\n",
    "    layers.Dense(256, activation = 'relu'),\n",
    "    layers.BatchNormalization(),\n",
    "    layers.Dropout(0.3),\n",
    "    layers.Dense(1, activation = 'sigmoid')\n",
    "]);\n",
    "\n",
    "# Check your answer\n",
    "q_1.check()"
   ]
  },
  {
   "cell_type": "markdown",
   "id": "79c8fde4",
   "metadata": {
    "papermill": {
     "duration": 0.003388,
     "end_time": "2022-08-14T16:30:49.619013",
     "exception": false,
     "start_time": "2022-08-14T16:30:49.615625",
     "status": "completed"
    },
    "tags": []
   },
   "source": [
    "# 2) Add Optimizer, Loss, and Metric #\n",
    "\n",
    "Now compile the model with the Adam optimizer and binary versions of the cross-entropy loss and accuracy metric."
   ]
  },
  {
   "cell_type": "code",
   "execution_count": 4,
   "id": "1e0afb11",
   "metadata": {
    "execution": {
     "iopub.execute_input": "2022-08-14T16:30:49.628444Z",
     "iopub.status.busy": "2022-08-14T16:30:49.626953Z",
     "iopub.status.idle": "2022-08-14T16:30:49.644332Z",
     "shell.execute_reply": "2022-08-14T16:30:49.643405Z"
    },
    "lines_to_next_cell": 0,
    "papermill": {
     "duration": 0.023733,
     "end_time": "2022-08-14T16:30:49.646244",
     "exception": false,
     "start_time": "2022-08-14T16:30:49.622511",
     "status": "completed"
    },
    "tags": []
   },
   "outputs": [
    {
     "data": {
      "application/javascript": [
       "parent.postMessage({\"jupyterEvent\": \"custom.exercise_interaction\", \"data\": {\"outcomeType\": 1, \"valueTowardsCompletion\": 0.3333333333333333, \"interactionType\": 1, \"questionType\": 2, \"questionId\": \"2_Q2\", \"learnToolsVersion\": \"0.3.4\", \"failureMessage\": \"\", \"exceptionClass\": \"\", \"trace\": \"\"}}, \"*\")"
      ],
      "text/plain": [
       "<IPython.core.display.Javascript object>"
      ]
     },
     "metadata": {},
     "output_type": "display_data"
    },
    {
     "data": {
      "text/markdown": [
       "<span style=\"color:#33cc33\">Correct</span>"
      ],
      "text/plain": [
       "Correct"
      ]
     },
     "metadata": {},
     "output_type": "display_data"
    }
   ],
   "source": [
    "# YOUR CODE HERE\n",
    "model.compile(\n",
    "    optimizer= 'adam',\n",
    "    loss = 'binary_crossentropy',\n",
    "    metrics = ['binary_accuracy'],\n",
    ")\n",
    "\n",
    "# Check your answer\n",
    "q_2.check()"
   ]
  },
  {
   "cell_type": "code",
   "execution_count": 5,
   "id": "6eb10f6c",
   "metadata": {
    "execution": {
     "iopub.execute_input": "2022-08-14T16:30:49.656445Z",
     "iopub.status.busy": "2022-08-14T16:30:49.654994Z",
     "iopub.status.idle": "2022-08-14T16:30:49.664569Z",
     "shell.execute_reply": "2022-08-14T16:30:49.663620Z"
    },
    "lines_to_next_cell": 0,
    "papermill": {
     "duration": 0.016384,
     "end_time": "2022-08-14T16:30:49.666603",
     "exception": false,
     "start_time": "2022-08-14T16:30:49.650219",
     "status": "completed"
    },
    "tags": []
   },
   "outputs": [
    {
     "data": {
      "application/javascript": [
       "parent.postMessage({\"jupyterEvent\": \"custom.exercise_interaction\", \"data\": {\"interactionType\": 3, \"questionType\": 2, \"questionId\": \"2_Q2\", \"learnToolsVersion\": \"0.3.4\", \"valueTowardsCompletion\": 0.0, \"failureMessage\": \"\", \"exceptionClass\": \"\", \"trace\": \"\", \"outcomeType\": 4}}, \"*\")"
      ],
      "text/plain": [
       "<IPython.core.display.Javascript object>"
      ]
     },
     "metadata": {},
     "output_type": "display_data"
    },
    {
     "data": {
      "text/markdown": [
       "<span style=\"color:#33cc99\">Solution:</span> \n",
       "```python\n",
       "\n",
       "model.compile(\n",
       "    optimizer='adam',\n",
       "    loss='binary_crossentropy',\n",
       "    metrics=['binary_accuracy'],\n",
       ")\n",
       "\n",
       "```"
      ],
      "text/plain": [
       "Solution: \n",
       "```python\n",
       "\n",
       "model.compile(\n",
       "    optimizer='adam',\n",
       "    loss='binary_crossentropy',\n",
       "    metrics=['binary_accuracy'],\n",
       ")\n",
       "\n",
       "```"
      ]
     },
     "metadata": {},
     "output_type": "display_data"
    }
   ],
   "source": [
    "# Lines below will give you a hint or solution code\n",
    "#q_2.hint()\n",
    "q_2.solution()"
   ]
  },
  {
   "cell_type": "markdown",
   "id": "6f5bfbc5",
   "metadata": {
    "papermill": {
     "duration": 0.003778,
     "end_time": "2022-08-14T16:30:49.674438",
     "exception": false,
     "start_time": "2022-08-14T16:30:49.670660",
     "status": "completed"
    },
    "tags": []
   },
   "source": [
    "Finally, run this cell to train the model and view the learning curves. It may run for around 60 to 70 epochs, which could take a minute or two."
   ]
  },
  {
   "cell_type": "code",
   "execution_count": 6,
   "id": "f0f7844a",
   "metadata": {
    "execution": {
     "iopub.execute_input": "2022-08-14T16:30:49.683519Z",
     "iopub.status.busy": "2022-08-14T16:30:49.683216Z",
     "iopub.status.idle": "2022-08-14T16:31:22.515689Z",
     "shell.execute_reply": "2022-08-14T16:31:22.514752Z"
    },
    "papermill": {
     "duration": 32.839488,
     "end_time": "2022-08-14T16:31:22.517862",
     "exception": false,
     "start_time": "2022-08-14T16:30:49.678374",
     "status": "completed"
    },
    "tags": []
   },
   "outputs": [
    {
     "name": "stderr",
     "output_type": "stream",
     "text": [
      "2022-08-14 16:30:49.809467: I tensorflow/compiler/mlir/mlir_graph_optimization_pass.cc:185] None of the MLIR Optimization Passes are enabled (registered 2)\n"
     ]
    },
    {
     "name": "stdout",
     "output_type": "stream",
     "text": [
      "Epoch 1/200\n",
      "175/175 [==============================] - 3s 6ms/step - loss: 0.4777 - binary_accuracy: 0.7714 - val_loss: 0.4406 - val_binary_accuracy: 0.8075\n",
      "Epoch 2/200\n",
      "175/175 [==============================] - 1s 5ms/step - loss: 0.4233 - binary_accuracy: 0.8006 - val_loss: 0.4006 - val_binary_accuracy: 0.8133\n",
      "Epoch 3/200\n",
      "175/175 [==============================] - 1s 5ms/step - loss: 0.4100 - binary_accuracy: 0.8073 - val_loss: 0.3929 - val_binary_accuracy: 0.8175\n",
      "Epoch 4/200\n",
      "175/175 [==============================] - 1s 4ms/step - loss: 0.4021 - binary_accuracy: 0.8125 - val_loss: 0.3888 - val_binary_accuracy: 0.8204\n",
      "Epoch 5/200\n",
      "175/175 [==============================] - 1s 4ms/step - loss: 0.3976 - binary_accuracy: 0.8141 - val_loss: 0.3856 - val_binary_accuracy: 0.8213\n",
      "Epoch 6/200\n",
      "175/175 [==============================] - 1s 4ms/step - loss: 0.3928 - binary_accuracy: 0.8169 - val_loss: 0.3830 - val_binary_accuracy: 0.8247\n",
      "Epoch 7/200\n",
      "175/175 [==============================] - 1s 4ms/step - loss: 0.3884 - binary_accuracy: 0.8192 - val_loss: 0.3784 - val_binary_accuracy: 0.8261\n",
      "Epoch 8/200\n",
      "175/175 [==============================] - 1s 4ms/step - loss: 0.3848 - binary_accuracy: 0.8222 - val_loss: 0.3790 - val_binary_accuracy: 0.8253\n",
      "Epoch 9/200\n",
      "175/175 [==============================] - 1s 4ms/step - loss: 0.3823 - binary_accuracy: 0.8227 - val_loss: 0.3759 - val_binary_accuracy: 0.8288\n",
      "Epoch 10/200\n",
      "175/175 [==============================] - 1s 5ms/step - loss: 0.3804 - binary_accuracy: 0.8225 - val_loss: 0.3725 - val_binary_accuracy: 0.8292\n",
      "Epoch 11/200\n",
      "175/175 [==============================] - 1s 5ms/step - loss: 0.3764 - binary_accuracy: 0.8247 - val_loss: 0.3693 - val_binary_accuracy: 0.8302\n",
      "Epoch 12/200\n",
      "175/175 [==============================] - 1s 4ms/step - loss: 0.3747 - binary_accuracy: 0.8258 - val_loss: 0.3741 - val_binary_accuracy: 0.8278\n",
      "Epoch 13/200\n",
      "175/175 [==============================] - 1s 5ms/step - loss: 0.3715 - binary_accuracy: 0.8270 - val_loss: 0.3690 - val_binary_accuracy: 0.8317\n",
      "Epoch 14/200\n",
      "175/175 [==============================] - 1s 5ms/step - loss: 0.3713 - binary_accuracy: 0.8275 - val_loss: 0.3655 - val_binary_accuracy: 0.8335\n",
      "Epoch 15/200\n",
      "175/175 [==============================] - 1s 4ms/step - loss: 0.3683 - binary_accuracy: 0.8301 - val_loss: 0.3651 - val_binary_accuracy: 0.8337\n",
      "Epoch 16/200\n",
      "175/175 [==============================] - 1s 4ms/step - loss: 0.3657 - binary_accuracy: 0.8313 - val_loss: 0.3628 - val_binary_accuracy: 0.8337\n",
      "Epoch 17/200\n",
      "175/175 [==============================] - 1s 4ms/step - loss: 0.3656 - binary_accuracy: 0.8309 - val_loss: 0.3616 - val_binary_accuracy: 0.8342\n",
      "Epoch 18/200\n",
      "175/175 [==============================] - 1s 5ms/step - loss: 0.3626 - binary_accuracy: 0.8319 - val_loss: 0.3605 - val_binary_accuracy: 0.8348\n",
      "Epoch 19/200\n",
      "175/175 [==============================] - 1s 4ms/step - loss: 0.3614 - binary_accuracy: 0.8327 - val_loss: 0.3605 - val_binary_accuracy: 0.8344\n",
      "Epoch 20/200\n",
      "175/175 [==============================] - 1s 4ms/step - loss: 0.3593 - binary_accuracy: 0.8346 - val_loss: 0.3618 - val_binary_accuracy: 0.8331\n",
      "Epoch 21/200\n",
      "175/175 [==============================] - 1s 5ms/step - loss: 0.3585 - binary_accuracy: 0.8341 - val_loss: 0.3592 - val_binary_accuracy: 0.8339\n",
      "Epoch 22/200\n",
      "175/175 [==============================] - 1s 4ms/step - loss: 0.3573 - binary_accuracy: 0.8349 - val_loss: 0.3604 - val_binary_accuracy: 0.8345\n",
      "Epoch 23/200\n",
      "175/175 [==============================] - 1s 4ms/step - loss: 0.3563 - binary_accuracy: 0.8352 - val_loss: 0.3576 - val_binary_accuracy: 0.8347\n",
      "Epoch 24/200\n",
      "175/175 [==============================] - 1s 6ms/step - loss: 0.3539 - binary_accuracy: 0.8358 - val_loss: 0.3569 - val_binary_accuracy: 0.8355\n",
      "Epoch 25/200\n",
      "175/175 [==============================] - 1s 6ms/step - loss: 0.3524 - binary_accuracy: 0.8362 - val_loss: 0.3581 - val_binary_accuracy: 0.8363\n",
      "Epoch 26/200\n",
      "175/175 [==============================] - 1s 4ms/step - loss: 0.3513 - binary_accuracy: 0.8380 - val_loss: 0.3559 - val_binary_accuracy: 0.8368\n",
      "Epoch 27/200\n",
      "175/175 [==============================] - 1s 6ms/step - loss: 0.3510 - binary_accuracy: 0.8378 - val_loss: 0.3548 - val_binary_accuracy: 0.8378\n",
      "Epoch 28/200\n",
      "175/175 [==============================] - 1s 4ms/step - loss: 0.3497 - binary_accuracy: 0.8377 - val_loss: 0.3538 - val_binary_accuracy: 0.8379\n",
      "Epoch 29/200\n",
      "175/175 [==============================] - 1s 5ms/step - loss: 0.3488 - binary_accuracy: 0.8392 - val_loss: 0.3529 - val_binary_accuracy: 0.8379\n",
      "Epoch 30/200\n",
      "175/175 [==============================] - 1s 4ms/step - loss: 0.3472 - binary_accuracy: 0.8404 - val_loss: 0.3542 - val_binary_accuracy: 0.8378\n",
      "Epoch 31/200\n",
      "175/175 [==============================] - 1s 5ms/step - loss: 0.3468 - binary_accuracy: 0.8400 - val_loss: 0.3545 - val_binary_accuracy: 0.8377\n",
      "Epoch 32/200\n",
      "175/175 [==============================] - 1s 4ms/step - loss: 0.3443 - binary_accuracy: 0.8406 - val_loss: 0.3521 - val_binary_accuracy: 0.8388\n",
      "Epoch 33/200\n",
      "175/175 [==============================] - 1s 5ms/step - loss: 0.3438 - binary_accuracy: 0.8413 - val_loss: 0.3519 - val_binary_accuracy: 0.8382\n",
      "Epoch 34/200\n",
      "175/175 [==============================] - 1s 4ms/step - loss: 0.3429 - binary_accuracy: 0.8416 - val_loss: 0.3516 - val_binary_accuracy: 0.8389\n",
      "Epoch 35/200\n",
      "175/175 [==============================] - 1s 5ms/step - loss: 0.3419 - binary_accuracy: 0.8421 - val_loss: 0.3542 - val_binary_accuracy: 0.8379\n",
      "Epoch 36/200\n",
      "175/175 [==============================] - 1s 4ms/step - loss: 0.3412 - binary_accuracy: 0.8416 - val_loss: 0.3527 - val_binary_accuracy: 0.8392\n",
      "Epoch 37/200\n",
      "175/175 [==============================] - 1s 5ms/step - loss: 0.3413 - binary_accuracy: 0.8420 - val_loss: 0.3529 - val_binary_accuracy: 0.8405\n"
     ]
    },
    {
     "data": {
      "text/plain": [
       "<AxesSubplot:title={'center':'Accuracy'}>"
      ]
     },
     "execution_count": 6,
     "metadata": {},
     "output_type": "execute_result"
    },
    {
     "data": {
      "image/png": "[encoded data removed]",
      "text/plain": [
       "<Figure size 432x288 with 1 Axes>"
      ]
     },
     "metadata": {},
     "output_type": "display_data"
    },
    {
     "data": {
      "image/png": "[encoded data removed]",
      "text/plain": [
       "<Figure size 432x288 with 1 Axes>"
      ]
     },
     "metadata": {},
     "output_type": "display_data"
    }
   ],
   "source": [
    "early_stopping = keras.callbacks.EarlyStopping(\n",
    "    patience=5,\n",
    "    min_delta=0.001,\n",
    "    restore_best_weights=True,\n",
    ")\n",
    "history = model.fit(\n",
    "    X_train, y_train,\n",
    "    validation_data=(X_valid, y_valid),\n",
    "    batch_size=512,\n",
    "    epochs=200,\n",
    "    callbacks=[early_stopping],\n",
    ")\n",
    "\n",
    "history_df = pd.DataFrame(history.history)\n",
    "history_df.loc[:, ['loss', 'val_loss']].plot(title=\"Cross-entropy\")\n",
    "history_df.loc[:, ['binary_accuracy', 'val_binary_accuracy']].plot(title=\"Accuracy\")"
   ]
  },
  {
   "cell_type": "markdown",
   "id": "41a374a3",
   "metadata": {
    "papermill": {
     "duration": 0.032599,
     "end_time": "2022-08-14T16:31:22.582680",
     "exception": false,
     "start_time": "2022-08-14T16:31:22.550081",
     "status": "completed"
    },
    "tags": []
   },
   "source": [
    "# 3) Train and Evaluate #\n",
    "\n",
    "\n",
    "What do you think about the learning curves? Does it look like the model underfit or overfit? Was the cross-entropy loss a good stand-in for accuracy?"
   ]
  },
  {
   "cell_type": "code",
   "execution_count": 7,
   "id": "7662b174",
   "metadata": {
    "execution": {
     "iopub.execute_input": "2022-08-14T16:31:22.647428Z",
     "iopub.status.busy": "2022-08-14T16:31:22.647065Z",
     "iopub.status.idle": "2022-08-14T16:31:22.655116Z",
     "shell.execute_reply": "2022-08-14T16:31:22.654157Z"
    },
    "papermill": {
     "duration": 0.043074,
     "end_time": "2022-08-14T16:31:22.657135",
     "exception": false,
     "start_time": "2022-08-14T16:31:22.614061",
     "status": "completed"
    },
    "tags": []
   },
   "outputs": [
    {
     "data": {
      "application/javascript": [
       "parent.postMessage({\"jupyterEvent\": \"custom.exercise_interaction\", \"data\": {\"outcomeType\": 1, \"valueTowardsCompletion\": 0.3333333333333333, \"interactionType\": 1, \"questionType\": 4, \"questionId\": \"3_Q3\", \"learnToolsVersion\": \"0.3.4\", \"failureMessage\": \"\", \"exceptionClass\": \"\", \"trace\": \"\"}}, \"*\")"
      ],
      "text/plain": [
       "<IPython.core.display.Javascript object>"
      ]
     },
     "metadata": {},
     "output_type": "display_data"
    },
    {
     "data": {
      "text/markdown": [
       "<span style=\"color:#33cc33\">Correct:</span> \n",
       "\n",
       "Though we can see the training loss continuing to fall, the early stopping callback prevented any overfitting. Moreover, the accuracy rose at the same rate as the cross-entropy fell, so it appears that minimizing cross-entropy was a good stand-in. All in all, it looks like this training was a success!"
      ],
      "text/plain": [
       "Correct: \n",
       "\n",
       "Though we can see the training loss continuing to fall, the early stopping callback prevented any overfitting. Moreover, the accuracy rose at the same rate as the cross-entropy fell, so it appears that minimizing cross-entropy was a good stand-in. All in all, it looks like this training was a success!"
      ]
     },
     "metadata": {},
     "output_type": "display_data"
    }
   ],
   "source": [
    "# View the solution (Run this cell to receive credit!)\n",
    "q_3.check()"
   ]
  },
  {
   "cell_type": "markdown",
   "id": "bfb2edf5",
   "metadata": {
    "papermill": {
     "duration": 0.031866,
     "end_time": "2022-08-14T16:31:22.721446",
     "exception": false,
     "start_time": "2022-08-14T16:31:22.689580",
     "status": "completed"
    },
    "tags": []
   },
   "source": [
    "# Conclusion #\n",
    "\n",
    "Congratulations! You've completed Kaggle's *Introduction to Deep Learning* course!\n",
    "\n",
    "With your new skills you're ready to take on more advanced applications like computer vision and sentiment classification. What would you like to do next?\n",
    "\n",
    "Why not try one of our *Getting Started* competitions?\n",
    "\n",
    "- Classify images with TPUs in [**Petals to the Metal**](https://www.kaggle.com/c/tpu-getting-started)\n",
    "- Create art with GANs in [**I'm Something of a Painter Myself**](https://www.kaggle.com/c/gan-getting-started)\n",
    "- Classify Tweets in [**Real or Not? NLP with Disaster Tweets**](https://www.kaggle.com/c/nlp-getting-started)\n",
    "- Detect contradiction and entailment in [**Contradictory, My Dear Watson**](https://www.kaggle.com/c/contradictory-my-dear-watson)\n",
    "\n",
    "Until next time, Kagglers!"
   ]
  },
  {
   "cell_type": "markdown",
   "id": "53226ff4",
   "metadata": {
    "papermill": {
     "duration": 0.032224,
     "end_time": "2022-08-14T16:31:22.786053",
     "exception": false,
     "start_time": "2022-08-14T16:31:22.753829",
     "status": "completed"
    },
    "tags": []
   },
   "source": [
    "---\n",
    "\n",
    "\n",
    "\n",
    "\n",
    "*Have questions or comments? Visit the [course discussion forum](https://www.kaggle.com/learn/intro-to-deep-learning/discussion) to chat with other learners.*"
   ]
  }
 ],
 "metadata": {
  "kernelspec": {
   "display_name": "Python 3 (ipykernel)",
   "language": "python",
   "name": "python3"
  },
  "language_info": {
   "codemirror_mode": {
    "name": "ipython",
    "version": 3
   },
   "file_extension": ".py",
   "mimetype": "text/x-python",
   "name": "python",
   "nbconvert_exporter": "python",
   "pygments_lexer": "ipython3",
   "version": "3.10.4"
  },
  "papermill": {
   "default_parameters": {},
   "duration": 55.435772,
   "end_time": "2022-08-14T16:31:26.131383",
   "environment_variables": {},
   "exception": null,
   "input_path": "__notebook__.ipynb",
   "output_path": "__notebook__.ipynb",
   "parameters": {},
   "start_time": "2022-08-14T16:30:30.695611",
   "version": "2.3.4"
  }
 },
 "nbformat": 4,
 "nbformat_minor": 5
}
