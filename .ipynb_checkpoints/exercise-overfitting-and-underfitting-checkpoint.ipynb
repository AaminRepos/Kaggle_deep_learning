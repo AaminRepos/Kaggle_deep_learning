{
 "cells": [
  {
   "cell_type": "markdown",
   "id": "d81b1db8",
   "metadata": {
    "papermill": {
     "duration": 0.007406,
     "end_time": "2022-08-14T02:54:59.447217",
     "exception": false,
     "start_time": "2022-08-14T02:54:59.439811",
     "status": "completed"
    },
    "tags": []
   },
   "source": [
    "**This notebook is an exercise in the [Intro to Deep Learning](https://www.kaggle.com/learn/intro-to-deep-learning) course.  You can reference the tutorial at [this link](https://www.kaggle.com/ryanholbrook/overfitting-and-underfitting).**\n",
    "\n",
    "---\n"
   ]
  },
  {
   "cell_type": "markdown",
   "id": "9596bb2c",
   "metadata": {
    "papermill": {
     "duration": 0.005354,
     "end_time": "2022-08-14T02:54:59.457977",
     "exception": false,
     "start_time": "2022-08-14T02:54:59.452623",
     "status": "completed"
    },
    "tags": []
   },
   "source": [
    "# Introduction #\n",
    "\n",
    "In this exercise, you’ll learn how to improve training outcomes by including an early stopping callback to prevent overfitting.\n",
    "\n",
    "When you're ready, run this next cell to set everything up!"
   ]
  },
  {
   "cell_type": "code",
   "execution_count": 1,
   "id": "c12c97be",
   "metadata": {
    "execution": {
     "iopub.execute_input": "2022-08-14T02:54:59.471449Z",
     "iopub.status.busy": "2022-08-14T02:54:59.470651Z",
     "iopub.status.idle": "2022-08-14T02:54:59.523500Z",
     "shell.execute_reply": "2022-08-14T02:54:59.521900Z"
    },
    "papermill": {
     "duration": 0.063254,
     "end_time": "2022-08-14T02:54:59.526854",
     "exception": false,
     "start_time": "2022-08-14T02:54:59.463600",
     "status": "completed"
    },
    "tags": []
   },
   "outputs": [],
   "source": [
    "# Setup plotting\n",
    "import matplotlib.pyplot as plt\n",
    "plt.style.use('seaborn-whitegrid')\n",
    "# Set Matplotlib defaults\n",
    "plt.rc('figure', autolayout=True)\n",
    "plt.rc('axes', labelweight='bold', labelsize='large',\n",
    "       titleweight='bold', titlesize=18, titlepad=10)\n",
    "plt.rc('animation', html='html5')\n",
    "\n",
    "# Setup feedback system\n",
    "from learntools.core import binder\n",
    "binder.bind(globals())\n",
    "from learntools.deep_learning_intro.ex4 import *"
   ]
  },
  {
   "cell_type": "markdown",
   "id": "78010839",
   "metadata": {
    "papermill": {
     "duration": 0.005103,
     "end_time": "2022-08-14T02:54:59.537982",
     "exception": false,
     "start_time": "2022-08-14T02:54:59.532879",
     "status": "completed"
    },
    "tags": []
   },
   "source": [
    "First load the *Spotify* dataset. Your task will be to predict the popularity of a song based on various audio features, like `'tempo'`, `'danceability'`, and `'mode'`."
   ]
  },
  {
   "cell_type": "code",
   "execution_count": 2,
   "id": "2a0e5fd6",
   "metadata": {
    "execution": {
     "iopub.execute_input": "2022-08-14T02:54:59.550481Z",
     "iopub.status.busy": "2022-08-14T02:54:59.550066Z",
     "iopub.status.idle": "2022-08-14T02:55:07.793828Z",
     "shell.execute_reply": "2022-08-14T02:55:07.792344Z"
    },
    "papermill": {
     "duration": 8.254664,
     "end_time": "2022-08-14T02:55:07.798009",
     "exception": false,
     "start_time": "2022-08-14T02:54:59.543345",
     "status": "completed"
    },
    "tags": []
   },
   "outputs": [
    {
     "name": "stdout",
     "output_type": "stream",
     "text": [
      "Input shape: [18]\n"
     ]
    }
   ],
   "source": [
    "import pandas as pd\n",
    "from sklearn.preprocessing import StandardScaler, OneHotEncoder\n",
    "from sklearn.compose import make_column_transformer\n",
    "from sklearn.model_selection import GroupShuffleSplit\n",
    "\n",
    "from tensorflow import keras\n",
    "from tensorflow.keras import layers\n",
    "from tensorflow.keras import callbacks\n",
    "\n",
    "spotify = pd.read_csv('../input/dl-course-data/spotify.csv')\n",
    "\n",
    "X = spotify.copy().dropna()\n",
    "y = X.pop('track_popularity')\n",
    "artists = X['track_artist']\n",
    "\n",
    "features_num = ['danceability', 'energy', 'key', 'loudness', 'mode',\n",
    "                'speechiness', 'acousticness', 'instrumentalness',\n",
    "                'liveness', 'valence', 'tempo', 'duration_ms']\n",
    "features_cat = ['playlist_genre']\n",
    "\n",
    "preprocessor = make_column_transformer(\n",
    "    (StandardScaler(), features_num),\n",
    "    (OneHotEncoder(), features_cat),\n",
    ")\n",
    "\n",
    "# We'll do a \"grouped\" split to keep all of an artist's songs in one\n",
    "# split or the other. This is to help prevent signal leakage.\n",
    "def group_split(X, y, group, train_size=0.75):\n",
    "    splitter = GroupShuffleSplit(train_size=train_size)\n",
    "    train, test = next(splitter.split(X, y, groups=group))\n",
    "    return (X.iloc[train], X.iloc[test], y.iloc[train], y.iloc[test])\n",
    "\n",
    "X_train, X_valid, y_train, y_valid = group_split(X, y, artists)\n",
    "\n",
    "X_train = preprocessor.fit_transform(X_train)\n",
    "X_valid = preprocessor.transform(X_valid)\n",
    "y_train = y_train / 100 # popularity is on a scale 0-100, so this rescales to 0-1.\n",
    "y_valid = y_valid / 100\n",
    "\n",
    "input_shape = [X_train.shape[1]]\n",
    "print(\"Input shape: {}\".format(input_shape))"
   ]
  },
  {
   "cell_type": "markdown",
   "id": "b9220a5e",
   "metadata": {
    "papermill": {
     "duration": 0.005073,
     "end_time": "2022-08-14T02:55:07.809589",
     "exception": false,
     "start_time": "2022-08-14T02:55:07.804516",
     "status": "completed"
    },
    "tags": []
   },
   "source": [
    "Let's start with the simplest network, a linear model. This model has low capacity.\n",
    "\n",
    "Run this next cell without any changes to train a linear model on the *Spotify* dataset."
   ]
  },
  {
   "cell_type": "code",
   "execution_count": 3,
   "id": "9648eacf",
   "metadata": {
    "execution": {
     "iopub.execute_input": "2022-08-14T02:55:07.822955Z",
     "iopub.status.busy": "2022-08-14T02:55:07.821620Z",
     "iopub.status.idle": "2022-08-14T02:55:22.924823Z",
     "shell.execute_reply": "2022-08-14T02:55:22.923258Z"
    },
    "lines_to_next_cell": 0,
    "papermill": {
     "duration": 15.112646,
     "end_time": "2022-08-14T02:55:22.927571",
     "exception": false,
     "start_time": "2022-08-14T02:55:07.814925",
     "status": "completed"
    },
    "tags": []
   },
   "outputs": [
    {
     "name": "stderr",
     "output_type": "stream",
     "text": [
      "2022-08-14 02:55:07.952963: I tensorflow/stream_executor/cuda/cuda_gpu_executor.cc:937] successful NUMA node read from SysFS had negative value (-1), but there must be at least one NUMA node, so returning NUMA node zero\n",
      "2022-08-14 02:55:08.084861: I tensorflow/stream_executor/cuda/cuda_gpu_executor.cc:937] successful NUMA node read from SysFS had negative value (-1), but there must be at least one NUMA node, so returning NUMA node zero\n",
      "2022-08-14 02:55:08.089303: I tensorflow/stream_executor/cuda/cuda_gpu_executor.cc:937] successful NUMA node read from SysFS had negative value (-1), but there must be at least one NUMA node, so returning NUMA node zero\n",
      "2022-08-14 02:55:08.094988: I tensorflow/core/platform/cpu_feature_guard.cc:142] This TensorFlow binary is optimized with oneAPI Deep Neural Network Library (oneDNN) to use the following CPU instructions in performance-critical operations:  AVX2 FMA\n",
      "To enable them in other operations, rebuild TensorFlow with the appropriate compiler flags.\n",
      "2022-08-14 02:55:08.095450: I tensorflow/stream_executor/cuda/cuda_gpu_executor.cc:937] successful NUMA node read from SysFS had negative value (-1), but there must be at least one NUMA node, so returning NUMA node zero\n",
      "2022-08-14 02:55:08.099641: I tensorflow/stream_executor/cuda/cuda_gpu_executor.cc:937] successful NUMA node read from SysFS had negative value (-1), but there must be at least one NUMA node, so returning NUMA node zero\n",
      "2022-08-14 02:55:08.103685: I tensorflow/stream_executor/cuda/cuda_gpu_executor.cc:937] successful NUMA node read from SysFS had negative value (-1), but there must be at least one NUMA node, so returning NUMA node zero\n",
      "2022-08-14 02:55:11.175921: I tensorflow/stream_executor/cuda/cuda_gpu_executor.cc:937] successful NUMA node read from SysFS had negative value (-1), but there must be at least one NUMA node, so returning NUMA node zero\n",
      "2022-08-14 02:55:11.180105: I tensorflow/stream_executor/cuda/cuda_gpu_executor.cc:937] successful NUMA node read from SysFS had negative value (-1), but there must be at least one NUMA node, so returning NUMA node zero\n",
      "2022-08-14 02:55:11.184163: I tensorflow/stream_executor/cuda/cuda_gpu_executor.cc:937] successful NUMA node read from SysFS had negative value (-1), but there must be at least one NUMA node, so returning NUMA node zero\n",
      "2022-08-14 02:55:11.188229: I tensorflow/core/common_runtime/gpu/gpu_device.cc:1510] Created device /job:localhost/replica:0/task:0/device:GPU:0 with 15403 MB memory:  -> device: 0, name: Tesla P100-PCIE-16GB, pci bus id: 0000:00:04.0, compute capability: 6.0\n",
      "2022-08-14 02:55:11.895517: I tensorflow/compiler/mlir/mlir_graph_optimization_pass.cc:185] None of the MLIR Optimization Passes are enabled (registered 2)\n"
     ]
    },
    {
     "name": "stdout",
     "output_type": "stream",
     "text": [
      "Minimum Validation Loss: 0.1943\n"
     ]
    },
    {
     "data": {
      "image/png": "[encoded data removed]",
      "text/plain": [
       "<Figure size 432x288 with 1 Axes>"
      ]
     },
     "metadata": {},
     "output_type": "display_data"
    }
   ],
   "source": [
    "model = keras.Sequential([\n",
    "    layers.Dense(1, input_shape=input_shape),\n",
    "])\n",
    "model.compile(\n",
    "    optimizer='adam',\n",
    "    loss='mae',\n",
    ")\n",
    "history = model.fit(\n",
    "    X_train, y_train,\n",
    "    validation_data=(X_valid, y_valid),\n",
    "    batch_size=512,\n",
    "    epochs=50,\n",
    "    verbose=0, # suppress output since we'll plot the curves\n",
    ")\n",
    "history_df = pd.DataFrame(history.history)\n",
    "history_df.loc[0:, ['loss', 'val_loss']].plot();\n",
    "print(\"Minimum Validation Loss: {:0.4f}\".format(history_df['val_loss'].min()));"
   ]
  },
  {
   "cell_type": "markdown",
   "id": "b1a74120",
   "metadata": {
    "papermill": {
     "duration": 0.005769,
     "end_time": "2022-08-14T02:55:22.939728",
     "exception": false,
     "start_time": "2022-08-14T02:55:22.933959",
     "status": "completed"
    },
    "tags": []
   },
   "source": [
    "It's not uncommon for the curves to follow a \"hockey stick\" pattern like you see here. This makes the final part of training hard to see, so let's start at epoch 10 instead:"
   ]
  },
  {
   "cell_type": "code",
   "execution_count": 4,
   "id": "6c10eb60",
   "metadata": {
    "execution": {
     "iopub.execute_input": "2022-08-14T02:55:22.954727Z",
     "iopub.status.busy": "2022-08-14T02:55:22.952812Z",
     "iopub.status.idle": "2022-08-14T02:55:23.295224Z",
     "shell.execute_reply": "2022-08-14T02:55:23.293900Z"
    },
    "papermill": {
     "duration": 0.352259,
     "end_time": "2022-08-14T02:55:23.298074",
     "exception": false,
     "start_time": "2022-08-14T02:55:22.945815",
     "status": "completed"
    },
    "tags": []
   },
   "outputs": [
    {
     "name": "stdout",
     "output_type": "stream",
     "text": [
      "Minimum Validation Loss: 0.1943\n"
     ]
    },
    {
     "data": {
      "image/png": "[encoded data removed]",
      "text/plain": [
       "<Figure size 432x288 with 1 Axes>"
      ]
     },
     "metadata": {},
     "output_type": "display_data"
    }
   ],
   "source": [
    "# Start the plot at epoch 10\n",
    "history_df.loc[10:, ['loss', 'val_loss']].plot()\n",
    "print(\"Minimum Validation Loss: {:0.4f}\".format(history_df['val_loss'].min()));"
   ]
  },
  {
   "cell_type": "markdown",
   "id": "abf143f4",
   "metadata": {
    "papermill": {
     "duration": 0.006428,
     "end_time": "2022-08-14T02:55:23.311252",
     "exception": false,
     "start_time": "2022-08-14T02:55:23.304824",
     "status": "completed"
    },
    "tags": []
   },
   "source": [
    "# 1) Evaluate Baseline\n",
    "\n",
    "What do you think? Would you say this model is underfitting, overfitting, just right?"
   ]
  },
  {
   "cell_type": "code",
   "execution_count": 5,
   "id": "cb70f81c",
   "metadata": {
    "execution": {
     "iopub.execute_input": "2022-08-14T02:55:23.326782Z",
     "iopub.status.busy": "2022-08-14T02:55:23.326453Z",
     "iopub.status.idle": "2022-08-14T02:55:23.336566Z",
     "shell.execute_reply": "2022-08-14T02:55:23.335193Z"
    },
    "papermill": {
     "duration": 0.021269,
     "end_time": "2022-08-14T02:55:23.339439",
     "exception": false,
     "start_time": "2022-08-14T02:55:23.318170",
     "status": "completed"
    },
    "tags": []
   },
   "outputs": [
    {
     "data": {
      "application/javascript": [
       "parent.postMessage({\"jupyterEvent\": \"custom.exercise_interaction\", \"data\": {\"outcomeType\": 1, \"valueTowardsCompletion\": 0.25, \"interactionType\": 1, \"questionType\": 4, \"questionId\": \"1_Q1\", \"learnToolsVersion\": \"0.3.4\", \"failureMessage\": \"\", \"exceptionClass\": \"\", \"trace\": \"\"}}, \"*\")"
      ],
      "text/plain": [
       "<IPython.core.display.Javascript object>"
      ]
     },
     "metadata": {},
     "output_type": "display_data"
    },
    {
     "data": {
      "text/markdown": [
       "<span style=\"color:#33cc33\">Correct:</span> \n",
       "\n",
       "The gap between these curves is quite small and the validation loss never increases, so it's more likely that the network is underfitting than overfitting. It would be worth experimenting with more capacity to see if that's the case."
      ],
      "text/plain": [
       "Correct: \n",
       "\n",
       "The gap between these curves is quite small and the validation loss never increases, so it's more likely that the network is underfitting than overfitting. It would be worth experimenting with more capacity to see if that's the case."
      ]
     },
     "metadata": {},
     "output_type": "display_data"
    }
   ],
   "source": [
    "# View the solution (Run this cell to receive credit!)\n",
    "q_1.check()"
   ]
  },
  {
   "cell_type": "markdown",
   "id": "4150e514",
   "metadata": {
    "papermill": {
     "duration": 0.006427,
     "end_time": "2022-08-14T02:55:23.353972",
     "exception": false,
     "start_time": "2022-08-14T02:55:23.347545",
     "status": "completed"
    },
    "tags": []
   },
   "source": [
    "Now let's add some capacity to our network. We'll add three hidden layers with 128 units each. Run the next cell to train the network and see the learning curves."
   ]
  },
  {
   "cell_type": "code",
   "execution_count": 6,
   "id": "1f67efa8",
   "metadata": {
    "execution": {
     "iopub.execute_input": "2022-08-14T02:55:23.369145Z",
     "iopub.status.busy": "2022-08-14T02:55:23.368754Z",
     "iopub.status.idle": "2022-08-14T02:55:44.614717Z",
     "shell.execute_reply": "2022-08-14T02:55:44.613174Z"
    },
    "papermill": {
     "duration": 21.257122,
     "end_time": "2022-08-14T02:55:44.617804",
     "exception": false,
     "start_time": "2022-08-14T02:55:23.360682",
     "status": "completed"
    },
    "tags": []
   },
   "outputs": [
    {
     "name": "stdout",
     "output_type": "stream",
     "text": [
      "Epoch 1/50\n",
      "49/49 [==============================] - 1s 6ms/step - loss: 0.2352 - val_loss: 0.2060\n",
      "Epoch 2/50\n",
      "49/49 [==============================] - 0s 4ms/step - loss: 0.2034 - val_loss: 0.2016\n",
      "Epoch 3/50\n",
      "49/49 [==============================] - 0s 4ms/step - loss: 0.1975 - val_loss: 0.1993\n",
      "Epoch 4/50\n",
      "49/49 [==============================] - 0s 4ms/step - loss: 0.1951 - val_loss: 0.1986\n",
      "Epoch 5/50\n",
      "49/49 [==============================] - 0s 4ms/step - loss: 0.1925 - val_loss: 0.1965\n",
      "Epoch 6/50\n",
      "49/49 [==============================] - 0s 4ms/step - loss: 0.1909 - val_loss: 0.1965\n",
      "Epoch 7/50\n",
      "49/49 [==============================] - 0s 4ms/step - loss: 0.1893 - val_loss: 0.1960\n",
      "Epoch 8/50\n",
      "49/49 [==============================] - 0s 4ms/step - loss: 0.1878 - val_loss: 0.1949\n",
      "Epoch 9/50\n",
      "49/49 [==============================] - 0s 4ms/step - loss: 0.1869 - val_loss: 0.1952\n",
      "Epoch 10/50\n",
      "49/49 [==============================] - 0s 4ms/step - loss: 0.1864 - val_loss: 0.1963\n",
      "Epoch 11/50\n",
      "49/49 [==============================] - 0s 4ms/step - loss: 0.1851 - val_loss: 0.1950\n",
      "Epoch 12/50\n",
      "49/49 [==============================] - 0s 4ms/step - loss: 0.1839 - val_loss: 0.1956\n",
      "Epoch 13/50\n",
      "49/49 [==============================] - 0s 4ms/step - loss: 0.1835 - val_loss: 0.1958\n",
      "Epoch 14/50\n",
      "49/49 [==============================] - 0s 4ms/step - loss: 0.1831 - val_loss: 0.1953\n",
      "Epoch 15/50\n",
      "49/49 [==============================] - 0s 4ms/step - loss: 0.1821 - val_loss: 0.1984\n",
      "Epoch 16/50\n",
      "49/49 [==============================] - 0s 7ms/step - loss: 0.1816 - val_loss: 0.1960\n",
      "Epoch 17/50\n",
      "49/49 [==============================] - 0s 6ms/step - loss: 0.1804 - val_loss: 0.1955\n",
      "Epoch 18/50\n",
      "49/49 [==============================] - 0s 8ms/step - loss: 0.1812 - val_loss: 0.1973\n",
      "Epoch 19/50\n",
      "49/49 [==============================] - 0s 7ms/step - loss: 0.1798 - val_loss: 0.1985\n",
      "Epoch 20/50\n",
      "49/49 [==============================] - 0s 6ms/step - loss: 0.1793 - val_loss: 0.1979\n",
      "Epoch 21/50\n",
      "49/49 [==============================] - 0s 4ms/step - loss: 0.1789 - val_loss: 0.1977\n",
      "Epoch 22/50\n",
      "49/49 [==============================] - 0s 5ms/step - loss: 0.1779 - val_loss: 0.1973\n",
      "Epoch 23/50\n",
      "49/49 [==============================] - 0s 4ms/step - loss: 0.1781 - val_loss: 0.1968\n",
      "Epoch 24/50\n",
      "49/49 [==============================] - 0s 5ms/step - loss: 0.1772 - val_loss: 0.1982\n",
      "Epoch 25/50\n",
      "49/49 [==============================] - 0s 5ms/step - loss: 0.1766 - val_loss: 0.1990\n",
      "Epoch 26/50\n",
      "49/49 [==============================] - 0s 5ms/step - loss: 0.1762 - val_loss: 0.1972\n",
      "Epoch 27/50\n",
      "49/49 [==============================] - 0s 4ms/step - loss: 0.1752 - val_loss: 0.1987\n",
      "Epoch 28/50\n",
      "49/49 [==============================] - 0s 5ms/step - loss: 0.1749 - val_loss: 0.1975\n",
      "Epoch 29/50\n",
      "49/49 [==============================] - 0s 4ms/step - loss: 0.1744 - val_loss: 0.1982\n",
      "Epoch 30/50\n",
      "49/49 [==============================] - 0s 4ms/step - loss: 0.1739 - val_loss: 0.1995\n",
      "Epoch 31/50\n",
      "49/49 [==============================] - 0s 4ms/step - loss: 0.1743 - val_loss: 0.1991\n",
      "Epoch 32/50\n",
      "49/49 [==============================] - 0s 8ms/step - loss: 0.1736 - val_loss: 0.1988\n",
      "Epoch 33/50\n",
      "49/49 [==============================] - 0s 7ms/step - loss: 0.1729 - val_loss: 0.2027\n",
      "Epoch 34/50\n",
      "49/49 [==============================] - 0s 6ms/step - loss: 0.1723 - val_loss: 0.1989\n",
      "Epoch 35/50\n",
      "49/49 [==============================] - 0s 5ms/step - loss: 0.1712 - val_loss: 0.1991\n",
      "Epoch 36/50\n",
      "49/49 [==============================] - 0s 4ms/step - loss: 0.1709 - val_loss: 0.1984\n",
      "Epoch 37/50\n",
      "49/49 [==============================] - 0s 5ms/step - loss: 0.1706 - val_loss: 0.2002\n",
      "Epoch 38/50\n",
      "49/49 [==============================] - 0s 4ms/step - loss: 0.1708 - val_loss: 0.2008\n",
      "Epoch 39/50\n",
      "49/49 [==============================] - 0s 4ms/step - loss: 0.1700 - val_loss: 0.2008\n",
      "Epoch 40/50\n",
      "49/49 [==============================] - 0s 4ms/step - loss: 0.1695 - val_loss: 0.2014\n",
      "Epoch 41/50\n",
      "49/49 [==============================] - 0s 5ms/step - loss: 0.1691 - val_loss: 0.2007\n",
      "Epoch 42/50\n",
      "49/49 [==============================] - 0s 5ms/step - loss: 0.1687 - val_loss: 0.2014\n",
      "Epoch 43/50\n",
      "49/49 [==============================] - 0s 4ms/step - loss: 0.1689 - val_loss: 0.2023\n",
      "Epoch 44/50\n",
      "49/49 [==============================] - 0s 4ms/step - loss: 0.1693 - val_loss: 0.2042\n",
      "Epoch 45/50\n",
      "49/49 [==============================] - 0s 4ms/step - loss: 0.1679 - val_loss: 0.2013\n",
      "Epoch 46/50\n",
      "49/49 [==============================] - 0s 4ms/step - loss: 0.1672 - val_loss: 0.2028\n",
      "Epoch 47/50\n",
      "49/49 [==============================] - 0s 4ms/step - loss: 0.1666 - val_loss: 0.2056\n",
      "Epoch 48/50\n",
      "49/49 [==============================] - 0s 4ms/step - loss: 0.1674 - val_loss: 0.2020\n",
      "Epoch 49/50\n",
      "49/49 [==============================] - 0s 4ms/step - loss: 0.1668 - val_loss: 0.2016\n",
      "Epoch 50/50\n",
      "49/49 [==============================] - 0s 4ms/step - loss: 0.1661 - val_loss: 0.2031\n",
      "Minimum Validation Loss: 0.1949\n"
     ]
    },
    {
     "data": {
      "image/png": "[encoded data removed]",
      "text/plain": [
       "<Figure size 432x288 with 1 Axes>"
      ]
     },
     "metadata": {},
     "output_type": "display_data"
    }
   ],
   "source": [
    "model = keras.Sequential([\n",
    "    layers.Dense(128, activation='relu', input_shape=input_shape),\n",
    "    layers.Dense(64, activation='relu'),\n",
    "    layers.Dense(1)\n",
    "])\n",
    "model.compile(\n",
    "    optimizer='adam',\n",
    "    loss='mae',\n",
    ")\n",
    "history = model.fit(\n",
    "    X_train, y_train,\n",
    "    validation_data=(X_valid, y_valid),\n",
    "    batch_size=512,\n",
    "    epochs=50,\n",
    ")\n",
    "history_df = pd.DataFrame(history.history)\n",
    "history_df.loc[:, ['loss', 'val_loss']].plot()\n",
    "print(\"Minimum Validation Loss: {:0.4f}\".format(history_df['val_loss'].min()));"
   ]
  },
  {
   "cell_type": "markdown",
   "id": "24dca742",
   "metadata": {
    "papermill": {
     "duration": 0.021077,
     "end_time": "2022-08-14T02:55:44.660705",
     "exception": false,
     "start_time": "2022-08-14T02:55:44.639628",
     "status": "completed"
    },
    "tags": []
   },
   "source": [
    "# 2) Add Capacity\n",
    "\n",
    "What is your evaluation of these curves? Underfitting, overfitting, just right?"
   ]
  },
  {
   "cell_type": "code",
   "execution_count": 7,
   "id": "b5fef0ba",
   "metadata": {
    "execution": {
     "iopub.execute_input": "2022-08-14T02:55:44.704770Z",
     "iopub.status.busy": "2022-08-14T02:55:44.704314Z",
     "iopub.status.idle": "2022-08-14T02:55:44.714572Z",
     "shell.execute_reply": "2022-08-14T02:55:44.713261Z"
    },
    "papermill": {
     "duration": 0.035656,
     "end_time": "2022-08-14T02:55:44.717564",
     "exception": false,
     "start_time": "2022-08-14T02:55:44.681908",
     "status": "completed"
    },
    "tags": []
   },
   "outputs": [
    {
     "data": {
      "application/javascript": [
       "parent.postMessage({\"jupyterEvent\": \"custom.exercise_interaction\", \"data\": {\"outcomeType\": 1, \"valueTowardsCompletion\": 0.25, \"interactionType\": 1, \"questionType\": 4, \"questionId\": \"2_Q2\", \"learnToolsVersion\": \"0.3.4\", \"failureMessage\": \"\", \"exceptionClass\": \"\", \"trace\": \"\"}}, \"*\")"
      ],
      "text/plain": [
       "<IPython.core.display.Javascript object>"
      ]
     },
     "metadata": {},
     "output_type": "display_data"
    },
    {
     "data": {
      "text/markdown": [
       "<span style=\"color:#33cc33\">Correct:</span> \n",
       "\n",
       "Now the validation loss begins to rise very early, while the training loss continues to decrease. This indicates that the network has begun to overfit. At this point, we would need to try something to prevent it, either by reducing the number of units or through a method like early stopping. (We'll see another in the next lesson!)"
      ],
      "text/plain": [
       "Correct: \n",
       "\n",
       "Now the validation loss begins to rise very early, while the training loss continues to decrease. This indicates that the network has begun to overfit. At this point, we would need to try something to prevent it, either by reducing the number of units or through a method like early stopping. (We'll see another in the next lesson!)"
      ]
     },
     "metadata": {},
     "output_type": "display_data"
    }
   ],
   "source": [
    "# View the solution (Run this cell to receive credit!)\n",
    "q_2.check()"
   ]
  },
  {
   "cell_type": "markdown",
   "id": "5314dea8",
   "metadata": {
    "papermill": {
     "duration": 0.021097,
     "end_time": "2022-08-14T02:55:44.759735",
     "exception": false,
     "start_time": "2022-08-14T02:55:44.738638",
     "status": "completed"
    },
    "tags": []
   },
   "source": [
    "# 3) Define Early Stopping Callback\n",
    "\n",
    "Now define an early stopping callback that waits 5 epochs (`patience'`) for a change in validation loss of at least `0.001` (`min_delta`) and keeps the weights with the best loss (`restore_best_weights`)."
   ]
  },
  {
   "cell_type": "code",
   "execution_count": 8,
   "id": "bf90334e",
   "metadata": {
    "execution": {
     "iopub.execute_input": "2022-08-14T02:55:44.804054Z",
     "iopub.status.busy": "2022-08-14T02:55:44.803594Z",
     "iopub.status.idle": "2022-08-14T02:55:44.816032Z",
     "shell.execute_reply": "2022-08-14T02:55:44.814666Z"
    },
    "lines_to_next_cell": 0,
    "papermill": {
     "duration": 0.038275,
     "end_time": "2022-08-14T02:55:44.819144",
     "exception": false,
     "start_time": "2022-08-14T02:55:44.780869",
     "status": "completed"
    },
    "tags": []
   },
   "outputs": [
    {
     "data": {
      "application/javascript": [
       "parent.postMessage({\"jupyterEvent\": \"custom.exercise_interaction\", \"data\": {\"outcomeType\": 1, \"valueTowardsCompletion\": 0.25, \"interactionType\": 1, \"questionType\": 2, \"questionId\": \"3_Q3\", \"learnToolsVersion\": \"0.3.4\", \"failureMessage\": \"\", \"exceptionClass\": \"\", \"trace\": \"\"}}, \"*\")"
      ],
      "text/plain": [
       "<IPython.core.display.Javascript object>"
      ]
     },
     "metadata": {},
     "output_type": "display_data"
    },
    {
     "data": {
      "text/markdown": [
       "<span style=\"color:#33cc33\">Correct</span>"
      ],
      "text/plain": [
       "Correct"
      ]
     },
     "metadata": {},
     "output_type": "display_data"
    }
   ],
   "source": [
    "from tensorflow.keras import callbacks\n",
    "\n",
    "# YOUR CODE HERE: define an early stopping callback\n",
    "early_stopping = callbacks.EarlyStopping(\n",
    "    patience = 5,\n",
    "    min_delta= 0.001,\n",
    "    restore_best_weights = True,\n",
    ")\n",
    "\n",
    "# Check your answer\n",
    "q_3.check()"
   ]
  },
  {
   "cell_type": "code",
   "execution_count": 9,
   "id": "e534287c",
   "metadata": {
    "execution": {
     "iopub.execute_input": "2022-08-14T02:55:44.864420Z",
     "iopub.status.busy": "2022-08-14T02:55:44.862510Z",
     "iopub.status.idle": "2022-08-14T02:55:44.873986Z",
     "shell.execute_reply": "2022-08-14T02:55:44.872585Z"
    },
    "papermill": {
     "duration": 0.036179,
     "end_time": "2022-08-14T02:55:44.876489",
     "exception": false,
     "start_time": "2022-08-14T02:55:44.840310",
     "status": "completed"
    },
    "tags": []
   },
   "outputs": [
    {
     "data": {
      "application/javascript": [
       "parent.postMessage({\"jupyterEvent\": \"custom.exercise_interaction\", \"data\": {\"interactionType\": 2, \"questionType\": 2, \"questionId\": \"3_Q3\", \"learnToolsVersion\": \"0.3.4\", \"valueTowardsCompletion\": 0.0, \"failureMessage\": \"\", \"exceptionClass\": \"\", \"trace\": \"\", \"outcomeType\": 4}}, \"*\")"
      ],
      "text/plain": [
       "<IPython.core.display.Javascript object>"
      ]
     },
     "metadata": {},
     "output_type": "display_data"
    },
    {
     "data": {
      "text/markdown": [
       "<span style=\"color:#3366cc\">Hint:</span> \n",
       "Your solution should look something like:\n",
       "\n",
       "```python\n",
       "early_stopping = callbacks.EarlyStopping(\n",
       "    patience=____,\n",
       "    min_delta=____,\n",
       "    restore_best_weights=____,\n",
       ")\n",
       "```\n"
      ],
      "text/plain": [
       "Hint: \n",
       "Your solution should look something like:\n",
       "\n",
       "```python\n",
       "early_stopping = callbacks.EarlyStopping(\n",
       "    patience=____,\n",
       "    min_delta=____,\n",
       "    restore_best_weights=____,\n",
       ")\n",
       "```"
      ]
     },
     "metadata": {},
     "output_type": "display_data"
    }
   ],
   "source": [
    "# Lines below will give you a hint or solution code\n",
    "q_3.hint()\n",
    "#q_3.solution()"
   ]
  },
  {
   "cell_type": "markdown",
   "id": "60a56ba9",
   "metadata": {
    "papermill": {
     "duration": 0.021357,
     "end_time": "2022-08-14T02:55:44.919588",
     "exception": false,
     "start_time": "2022-08-14T02:55:44.898231",
     "status": "completed"
    },
    "tags": []
   },
   "source": [
    "Now run this cell to train the model and get the learning curves. Notice the `callbacks` argument in `model.fit`."
   ]
  },
  {
   "cell_type": "code",
   "execution_count": 10,
   "id": "eacb702e",
   "metadata": {
    "execution": {
     "iopub.execute_input": "2022-08-14T02:55:44.964361Z",
     "iopub.status.busy": "2022-08-14T02:55:44.963947Z",
     "iopub.status.idle": "2022-08-14T02:55:47.725792Z",
     "shell.execute_reply": "2022-08-14T02:55:47.724391Z"
    },
    "papermill": {
     "duration": 2.787582,
     "end_time": "2022-08-14T02:55:47.728444",
     "exception": false,
     "start_time": "2022-08-14T02:55:44.940862",
     "status": "completed"
    },
    "tags": []
   },
   "outputs": [
    {
     "name": "stdout",
     "output_type": "stream",
     "text": [
      "Epoch 1/50\n",
      "49/49 [==============================] - 1s 6ms/step - loss: 0.2335 - val_loss: 0.2034\n",
      "Epoch 2/50\n",
      "49/49 [==============================] - 0s 4ms/step - loss: 0.2007 - val_loss: 0.1977\n",
      "Epoch 3/50\n",
      "49/49 [==============================] - 0s 5ms/step - loss: 0.1959 - val_loss: 0.1986\n",
      "Epoch 4/50\n",
      "49/49 [==============================] - 0s 4ms/step - loss: 0.1930 - val_loss: 0.1955\n",
      "Epoch 5/50\n",
      "49/49 [==============================] - 0s 5ms/step - loss: 0.1910 - val_loss: 0.1959\n",
      "Epoch 6/50\n",
      "49/49 [==============================] - 0s 4ms/step - loss: 0.1894 - val_loss: 0.1965\n",
      "Epoch 7/50\n",
      "49/49 [==============================] - 0s 4ms/step - loss: 0.1885 - val_loss: 0.1949\n",
      "Epoch 8/50\n",
      "49/49 [==============================] - 0s 4ms/step - loss: 0.1874 - val_loss: 0.1959\n",
      "Epoch 9/50\n",
      "49/49 [==============================] - 0s 4ms/step - loss: 0.1864 - val_loss: 0.1952\n",
      "Minimum Validation Loss: 0.1949\n"
     ]
    },
    {
     "data": {
      "image/png": "[encoded data removed]",
      "text/plain": [
       "<Figure size 432x288 with 1 Axes>"
      ]
     },
     "metadata": {},
     "output_type": "display_data"
    }
   ],
   "source": [
    "model = keras.Sequential([\n",
    "    layers.Dense(128, activation='relu', input_shape=input_shape),\n",
    "    layers.Dense(64, activation='relu'),    \n",
    "    layers.Dense(1)\n",
    "])\n",
    "model.compile(\n",
    "    optimizer='adam',\n",
    "    loss='mae',\n",
    ")\n",
    "history = model.fit(\n",
    "    X_train, y_train,\n",
    "    validation_data=(X_valid, y_valid),\n",
    "    batch_size=512,\n",
    "    epochs=50,\n",
    "    callbacks=[early_stopping]\n",
    ")\n",
    "history_df = pd.DataFrame(history.history)\n",
    "history_df.loc[:, ['loss', 'val_loss']].plot()\n",
    "print(\"Minimum Validation Loss: {:0.4f}\".format(history_df['val_loss'].min()));"
   ]
  },
  {
   "cell_type": "markdown",
   "id": "1cba13fd",
   "metadata": {
    "papermill": {
     "duration": 0.025069,
     "end_time": "2022-08-14T02:55:47.778365",
     "exception": false,
     "start_time": "2022-08-14T02:55:47.753296",
     "status": "completed"
    },
    "tags": []
   },
   "source": [
    "# 4) Train and Interpret\n",
    "\n",
    "Was this an improvement compared to training without early stopping?"
   ]
  },
  {
   "cell_type": "code",
   "execution_count": 11,
   "id": "6ed89b5d",
   "metadata": {
    "execution": {
     "iopub.execute_input": "2022-08-14T02:55:47.830597Z",
     "iopub.status.busy": "2022-08-14T02:55:47.829470Z",
     "iopub.status.idle": "2022-08-14T02:55:47.843020Z",
     "shell.execute_reply": "2022-08-14T02:55:47.841470Z"
    },
    "papermill": {
     "duration": 0.042754,
     "end_time": "2022-08-14T02:55:47.846026",
     "exception": false,
     "start_time": "2022-08-14T02:55:47.803272",
     "status": "completed"
    },
    "tags": []
   },
   "outputs": [
    {
     "data": {
      "application/javascript": [
       "parent.postMessage({\"jupyterEvent\": \"custom.exercise_interaction\", \"data\": {\"outcomeType\": 1, \"valueTowardsCompletion\": 0.25, \"interactionType\": 1, \"questionType\": 4, \"questionId\": \"4_Q4\", \"learnToolsVersion\": \"0.3.4\", \"failureMessage\": \"\", \"exceptionClass\": \"\", \"trace\": \"\"}}, \"*\")"
      ],
      "text/plain": [
       "<IPython.core.display.Javascript object>"
      ]
     },
     "metadata": {},
     "output_type": "display_data"
    },
    {
     "data": {
      "text/markdown": [
       "<span style=\"color:#33cc33\">Correct:</span> \n",
       "\n",
       "The early stopping callback did stop the training once the network began overfitting. Moreover, by including `restore_best_weights` we still get to keep the model where validation loss was lowest."
      ],
      "text/plain": [
       "Correct: \n",
       "\n",
       "The early stopping callback did stop the training once the network began overfitting. Moreover, by including `restore_best_weights` we still get to keep the model where validation loss was lowest."
      ]
     },
     "metadata": {},
     "output_type": "display_data"
    }
   ],
   "source": [
    "# View the solution (Run this cell to receive credit!)\n",
    "q_4.check()"
   ]
  },
  {
   "cell_type": "markdown",
   "id": "171b373c",
   "metadata": {
    "papermill": {
     "duration": 0.024748,
     "end_time": "2022-08-14T02:55:47.895434",
     "exception": false,
     "start_time": "2022-08-14T02:55:47.870686",
     "status": "completed"
    },
    "tags": []
   },
   "source": [
    "If you like, try experimenting with `patience` and `min_delta` to see what difference it might make.\n",
    "\n",
    "# Keep Going #\n",
    "\n",
    "Move on to [**learn about a couple of special layers**](https://www.kaggle.com/ryanholbrook/dropout-and-batch-normalization): batch normalization and dropout."
   ]
  },
  {
   "cell_type": "markdown",
   "id": "2224cab7",
   "metadata": {
    "papermill": {
     "duration": 0.024096,
     "end_time": "2022-08-14T02:55:47.944326",
     "exception": false,
     "start_time": "2022-08-14T02:55:47.920230",
     "status": "completed"
    },
    "tags": []
   },
   "source": [
    "---\n",
    "\n",
    "\n",
    "\n",
    "\n",
    "*Have questions or comments? Visit the [course discussion forum](https://www.kaggle.com/learn/intro-to-deep-learning/discussion) to chat with other learners.*"
   ]
  }
 ],
 "metadata": {
  "kernelspec": {
   "display_name": "Python 3 (ipykernel)",
   "language": "python",
   "name": "python3"
  },
  "language_info": {
   "codemirror_mode": {
    "name": "ipython",
    "version": 3
   },
   "file_extension": ".py",
   "mimetype": "text/x-python",
   "name": "python",
   "nbconvert_exporter": "python",
   "pygments_lexer": "ipython3",
   "version": "3.10.4"
  },
  "papermill": {
   "default_parameters": {},
   "duration": 62.772066,
   "end_time": "2022-08-14T02:55:51.560046",
   "environment_variables": {},
   "exception": null,
   "input_path": "__notebook__.ipynb",
   "output_path": "__notebook__.ipynb",
   "parameters": {},
   "start_time": "2022-08-14T02:54:48.787980",
   "version": "2.3.4"
  }
 },
 "nbformat": 4,
 "nbformat_minor": 5
}
